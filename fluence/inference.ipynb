{
 "cells": [
  {
   "cell_type": "code",
   "execution_count": 1,
   "metadata": {},
   "outputs": [
    {
     "name": "stderr",
     "output_type": "stream",
     "text": [
      "I0119 21:19:21.596073 139999477484416 file_utils.py:35] PyTorch version 1.4.0+cpu available.\n",
      "/glob/intel-python/python3/lib/python3.6/site-packages/h5py/__init__.py:34: FutureWarning: Conversion of the second argument of issubdtype from `float` to `np.floating` is deprecated. In future, it will be treated as `np.float64 == np.dtype(float).type`.\n",
      "  from ._conv import register_converters as _register_converters\n"
     ]
    },
    {
     "data": {
      "text/plain": [
       "False"
      ]
     },
     "execution_count": 1,
     "metadata": {},
     "output_type": "execute_result"
    }
   ],
   "source": [
    "import pickle\n",
    "import os\n",
    "import collections\n",
    "import argparse\n",
    "from pathlib import Path\n",
    "\n",
    "import numpy as np\n",
    "import torch\n",
    "from torch.utils.data import Dataset\n",
    "from torch.utils.data.dataloader import DataLoader\n",
    "import torch.nn as nn\n",
    "from tqdm import tqdm\n",
    "from transformers import BertTokenizer\n",
    "import matplotlib.pyplot\n",
    "\n",
    "from utils import load_obj_tsv\n",
    "from optimizers.lamb import Lamb\n",
    "from dataset.vqa import VQADataset,VQATorchDataset, VQAEvaluator\n",
    "\n",
    "from pretrain.qa_answer_table import load_lxmert_qa\n",
    "from lxrt.entry import LXRTEncoder\n",
    "from activation import GeLU\n",
    "from transformers.modeling_bert import BertLayerNorm\n",
    "\n",
    "from models.lxrt_adaptive import VQAModel_Adaptive\n",
    "from pretrain.qa_answer_table import load_lxmert_qa\n",
    "from models.lxrt_adaptive import Model_Args\n",
    "from learner import Learner\n",
    "#from tasks.vqa_model import VQAModel\n",
    "\n",
    "TINY_IMG_NUM = 512\n",
    "FAST_IMG_NUM = 5000\n",
    "home = str(Path.home())\n",
    "MSCOCO_IMGFEAT_ROOT = home + '/data/mscoco_imgfeat/'\n",
    "VQA_DATA_ROOT = home+'/data/vqa/'\n",
    "load_lxmert_qa_path = home+'/snap/pretrained/model'\n",
    "\n",
    "SPLIT2NAME = {\n",
    "    'train': 'train2014',\n",
    "    'valid': 'val2014',\n",
    "    'minival': 'val2014',\n",
    "    'nominival': 'val2014',\n",
    "    'test': 'test2015',\n",
    "}\n",
    "torch.cuda.is_available()"
   ]
  },
  {
   "cell_type": "code",
   "execution_count": null,
   "metadata": {},
   "outputs": [],
   "source": []
  }
 ],
 "metadata": {
  "kernelspec": {
   "display_name": "torch",
   "language": "python",
   "name": "torch"
  },
  "language_info": {
   "codemirror_mode": {
    "name": "ipython",
    "version": 3
   },
   "file_extension": ".py",
   "mimetype": "text/x-python",
   "name": "python",
   "nbconvert_exporter": "python",
   "pygments_lexer": "ipython3",
   "version": "3.6.3"
  }
 },
 "nbformat": 4,
 "nbformat_minor": 2
}
