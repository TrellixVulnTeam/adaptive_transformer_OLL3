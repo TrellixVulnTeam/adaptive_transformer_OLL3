{
 "cells": [
  {
   "cell_type": "code",
   "execution_count": 1,
   "metadata": {},
   "outputs": [
    {
     "name": "stderr",
     "output_type": "stream",
     "text": [
      "I0211 20:49:18.876206 140430388493184 file_utils.py:35] PyTorch version 1.4.0+cpu available.\n",
      "/glob/intel-python/python3/lib/python3.6/site-packages/h5py/__init__.py:34: FutureWarning: Conversion of the second argument of issubdtype from `float` to `np.floating` is deprecated. In future, it will be treated as `np.float64 == np.dtype(float).type`.\n",
      "  from ._conv import register_converters as _register_converters\n"
     ]
    }
   ],
   "source": [
    "import math\n",
    "import torch\n",
    "from torch import nn\n",
    "import torch.nn.functional as F\n",
    "from transformers.modeling_bert import BertLayerNorm\n",
    "from transformers import BertConfig\n",
    "from transformers import BertTokenizer\n",
    "from models.lxmert_utils import BertPreTrainedModel, VISUAL_CONFIG, set_visual_config, InputFeatures, convert_sents_to_features\n",
    "from models.entmax import EntmaxAlpha\n",
    "from models.adaptive_span import AdaptiveSpan\n",
    "from models.layerdrop import LayerDrop_Bert, LayerDrop_Cross\n",
    "from dataset.vqa import VQADataset,VQATorchDataset, VQAEvaluator\n",
    "from pathlib import Path\n",
    "import collections\n",
    "from torch.utils.data.dataloader import DataLoader"
   ]
  },
  {
   "cell_type": "code",
   "execution_count": 2,
   "metadata": {},
   "outputs": [],
   "source": [
    "home = str(Path.home())\n",
    "MSCOCO_IMGFEAT_ROOT = home + '/data/mscoco_imgfeat/'\n",
    "VQA_DATA_ROOT = home+'/data/vqa/'"
   ]
  },
  {
   "cell_type": "code",
   "execution_count": 3,
   "metadata": {},
   "outputs": [],
   "source": [
    "device = torch.device('cuda') if torch.cuda.is_available() else torch.device('cpu')\n",
    "MAX_VQA_LENGTH = 20\n",
    "bert_config = BertConfig()\n",
    "\n",
    "class GeLU(nn.Module):\n",
    "    def __init__(self):\n",
    "        super().__init__()\n",
    "    def forward(self,x):\n",
    "        return F.gelu(x)"
   ]
  },
  {
   "cell_type": "code",
   "execution_count": 4,
   "metadata": {},
   "outputs": [],
   "source": [
    "params = {'adapt_span_enabled': False, 'attn_span': 1024, 'adapt_span_loss_coeff': 0.000005, \n",
    "          'adapt_span_ramp': 32, 'adapt_span_init': 0.002, 'adapt_span_cache': True, 'nb_heads': 12,\n",
    "          'bs': 128, 'mask_size': [20,36], 'sparse_enabled': True, 'num_attention_heads': 12, \n",
    "          'layer_sizes': {'lang':9,'cross':5,'vision':5}, 'from_scratch': False, \n",
    "          'layerdrop_enabled': False, 'layerdrop_num_layers': 1}"
   ]
  },
  {
   "cell_type": "code",
   "execution_count": 5,
   "metadata": {},
   "outputs": [],
   "source": [
    "class BertEmbeddings(nn.Module):\n",
    "    \"\"\"Construct the embeddings from word, position and token_type embeddings.\n",
    "    \"\"\"\n",
    "    def __init__(self, config):\n",
    "        super(BertEmbeddings, self).__init__()\n",
    "        self.word_embeddings = nn.Embedding(config.vocab_size, config.hidden_size, padding_idx=0)\n",
    "        self.position_embeddings = nn.Embedding(config.max_position_embeddings, config.hidden_size, padding_idx=0)\n",
    "        self.token_type_embeddings = nn.Embedding(config.type_vocab_size, config.hidden_size, padding_idx=0)\n",
    "\n",
    "        self.LayerNorm = BertLayerNorm(config.hidden_size, eps=1e-12)\n",
    "        self.dropout = nn.Dropout(config.hidden_dropout_prob)\n",
    "\n",
    "    def forward(self, input_ids, token_type_ids=None):\n",
    "        seq_length = input_ids.size(1)\n",
    "        position_ids = torch.arange(seq_length, dtype=torch.long, device=input_ids.device)\n",
    "        position_ids = position_ids.unsqueeze(0).expand_as(input_ids)\n",
    "        if token_type_ids is None:\n",
    "            token_type_ids = torch.zeros_like(input_ids)\n",
    "\n",
    "        words_embeddings = self.word_embeddings(input_ids)\n",
    "        position_embeddings = self.position_embeddings(position_ids)\n",
    "        token_type_embeddings = self.token_type_embeddings(token_type_ids)\n",
    "\n",
    "        embeddings = words_embeddings + position_embeddings + token_type_embeddings\n",
    "        embeddings = self.LayerNorm(embeddings)\n",
    "        embeddings = self.dropout(embeddings)\n",
    "        return embeddings"
   ]
  },
  {
   "cell_type": "code",
   "execution_count": 17,
   "metadata": {},
   "outputs": [],
   "source": [
    "class BertAttention(nn.Module):\n",
    "    \"\"\"\n",
    "    from transformers import BertConfig\n",
    "    \n",
    "    bert_att = BertAttention(BertConfig())\n",
    "    context_output = bert_att(hidden_states = torch.rand(128,20,768),\n",
    "                          context = torch.rand(128,36,768),\n",
    "                          attention_mask = None)\n",
    "    context_output.shape # [128, 20, 768]\n",
    "\n",
    "    \"\"\"\n",
    "    def __init__(self, config, params):\n",
    "        super().__init__()\n",
    "        if config.hidden_size % config.num_attention_heads != 0:\n",
    "            raise ValueError(\n",
    "                \"The hidden size (%d) is not a multiple of the number of attention \"\n",
    "                \"heads (%d)\" % (config.hidden_size, config.num_attention_heads))\n",
    "            \n",
    "        self.num_attention_heads = config.num_attention_heads #params['num_attention_heads'] # 12\n",
    "        self.attention_head_size = config.hidden_size // config.num_attention_heads # 768/12\n",
    "        self.all_head_size = self.num_attention_heads * self.attention_head_size # 12*64\n",
    "\n",
    "        self.query = nn.Linear(config.hidden_size, self.all_head_size) # 768x768\n",
    "        self.key = nn.Linear(config.hidden_size, self.all_head_size) # 768x768\n",
    "        self.value = nn.Linear(config.hidden_size, self.all_head_size) # 768x768\n",
    "\n",
    "        self.dropout = nn.Dropout(config.attention_probs_dropout_prob)\n",
    "        \n",
    "        self.adapt_span_bool = params['adapt_span_enabled']\n",
    "        self.sparse = params['sparse_enabled']\n",
    "        \n",
    "        if self.sparse:\n",
    "            self.entmax_alpha = EntmaxAlpha(self.num_attention_heads)\n",
    "            \n",
    "        if self.adapt_span_bool:\n",
    "            self.adaptive_span = AdaptiveSpan(params['adapt_span_enabled'], params['attn_span'],\n",
    "                                              params['adapt_span_loss_coeff'], params['adapt_span_ramp'],                                                                     params['adapt_span_init'], params['adapt_span_cache'], \n",
    "                                              params['nb_heads'], params['bs'], params['mask_size'])\n",
    "        \n",
    "\n",
    "    def transpose_for_scores(self, x):\n",
    "        new_x_shape = x.size()[:-1] + (self.num_attention_heads, self.attention_head_size)\n",
    "        x = x.view(*new_x_shape)\n",
    "        return x.permute(0, 2, 1, 3)\n",
    "\n",
    "    def forward(self, hidden_states, context, attention_mask=None):\n",
    "        #print('Hidden States: ', hidden_states.shape)\n",
    "        #print('context: :', context.shape)\n",
    "        mixed_query_layer = self.query(hidden_states)\n",
    "        mixed_key_layer = self.key(context)\n",
    "        mixed_value_layer = self.value(context)\n",
    "\n",
    "        query_layer = self.transpose_for_scores(mixed_query_layer)\n",
    "        key_layer = self.transpose_for_scores(mixed_key_layer)\n",
    "        value_layer = self.transpose_for_scores(mixed_value_layer)\n",
    "\n",
    "        # Take the dot product between \"query\" and \"key\" to get the raw attention scores.\n",
    "        attention_scores = torch.matmul(query_layer, key_layer.transpose(-1, -2))\n",
    "        attention_scores = attention_scores / math.sqrt(self.attention_head_size)\n",
    "        # Apply the attention mask is (precomputed for all layers in BertModel forward() function)\n",
    "        if attention_mask is not None:\n",
    "            attention_scores = attention_scores + attention_mask\n",
    "\n",
    "        if self.sparse:\n",
    "            attention_probs = self.entmax_alpha(attention_scores)\n",
    "        else:\n",
    "            attention_probs = nn.Softmax(dim=-1)(attention_scores)\n",
    "\n",
    "        if self.adapt_span_bool:\n",
    "            attention_probs = self.adaptive_span(attention_probs)\n",
    "\n",
    "        att_dict = {'attention_scores': attention_scores, 'attention_probs': attention_probs,\n",
    "                   'entmax_alpha': self.entmax_alpha.alpha_chooser}\n",
    "        attention_probs = self.dropout(attention_probs)\n",
    "       \n",
    "        context_layer = torch.matmul(attention_probs, value_layer)\n",
    "        context_layer = context_layer.permute(0, 2, 1, 3).contiguous()\n",
    "        new_context_layer_shape = context_layer.size()[:-2] + (self.all_head_size,)\n",
    "        context_layer = context_layer.view(*new_context_layer_shape)\n",
    "        return context_layer, att_dict\n",
    "    \n",
    "    def get_cache_size(self):\n",
    "        return self.adaptive_span.get_cache_size()"
   ]
  },
  {
   "cell_type": "code",
   "execution_count": 18,
   "metadata": {},
   "outputs": [],
   "source": [
    "bert_att = BertAttention(BertConfig(), params)\n",
    "output = bert_att(hidden_states = torch.rand(128,20,768),\n",
    "                          context = torch.rand(128,36,768),\n",
    "                          attention_mask = None)"
   ]
  },
  {
   "cell_type": "code",
   "execution_count": 54,
   "metadata": {},
   "outputs": [],
   "source": [
    "class BertAttOutput(nn.Module):\n",
    "    \"\"\"\n",
    "    from transformers import BertConfig\n",
    "    bert_att_output = BertAttOutput(BertConfig())\n",
    "    output = bert_att_output(torch.rand(128,20,768),torch.rand(128,20,768))\n",
    "    output.shape [128,20,768]\n",
    "\n",
    "    \"\"\"\n",
    "    def __init__(self, config):\n",
    "        super(BertAttOutput, self).__init__()\n",
    "        self.dense = nn.Linear(config.hidden_size, config.hidden_size)\n",
    "        self.LayerNorm = BertLayerNorm(config.hidden_size, eps=1e-12)\n",
    "        self.dropout = nn.Dropout(config.hidden_dropout_prob)\n",
    "\n",
    "    def forward(self, hidden_states, input_tensor):\n",
    "        hidden_states = self.dense(hidden_states)\n",
    "        hidden_states = self.dropout(hidden_states)\n",
    "        hidden_states = self.LayerNorm(hidden_states + input_tensor)\n",
    "        return hidden_states"
   ]
  },
  {
   "cell_type": "code",
   "execution_count": 55,
   "metadata": {},
   "outputs": [],
   "source": [
    "class BertCrossattLayer(nn.Module):\n",
    "    \"\"\"\n",
    "    from transformers import BertConfig\n",
    "    \n",
    "    bert_cross_att = BertCrossattLayer(BertConfig())\n",
    "    output = bert_cross_att(input_tensor = torch.rand(128,20,768), \n",
    "                        ctx_tensor = torch.rand(128,36,768), \n",
    "                        ctx_att_mask = None)\n",
    "                        \n",
    "    output.shape [128,20,768]\n",
    "    \"\"\"\n",
    "    def __init__(self, config, params):\n",
    "        super().__init__()\n",
    "        self.att = BertAttention(config, params = params)\n",
    "        self.output = BertAttOutput(config)\n",
    "\n",
    "    def forward(self, input_tensor, ctx_tensor, ctx_att_mask=None):\n",
    "        output, att_probs = self.att(input_tensor, ctx_tensor, ctx_att_mask) # [128,20,768]\n",
    "        attention_output = self.output(output, input_tensor)\n",
    "        return attention_output, att_probs"
   ]
  },
  {
   "cell_type": "code",
   "execution_count": 57,
   "metadata": {},
   "outputs": [],
   "source": [
    "bert_cross_att = BertCrossattLayer(BertConfig(), params)\n",
    "output = bert_cross_att(input_tensor = torch.rand(128,20,768), \n",
    "                        ctx_tensor = torch.rand(128,36,768), \n",
    "                        ctx_att_mask = None)"
   ]
  },
  {
   "cell_type": "code",
   "execution_count": 58,
   "metadata": {},
   "outputs": [],
   "source": [
    "class BertSelfattLayer(nn.Module):\n",
    "    \"\"\"\n",
    "    bert_self_att_layer = BertSelfattLayer(bert_config)\n",
    "    output = bert_self_att_layer(input_tensor = torch.rand(128,20,768),\n",
    "                             attention_mask = torch.rand(128,1,1,20))\n",
    "    output.shape [128, 20, 768]\n",
    "    \"\"\"\n",
    "    def __init__(self, config, params):\n",
    "        super(BertSelfattLayer, self).__init__()\n",
    "        self.self = BertAttention(config, params = params)\n",
    "        self.output = BertAttOutput(config)\n",
    "\n",
    "    def forward(self, input_tensor, attention_mask):\n",
    "        # Self attention attends to itself, thus keys and querys are the same (input_tensor).\n",
    "        self_output, att_probs = self.self(input_tensor, input_tensor, attention_mask)\n",
    "        attention_output = self.output(self_output, input_tensor)\n",
    "        return attention_output, att_probs"
   ]
  },
  {
   "cell_type": "code",
   "execution_count": 60,
   "metadata": {},
   "outputs": [],
   "source": [
    "bert_self_att_layer = BertSelfattLayer(bert_config, params)\n",
    "output = bert_self_att_layer(input_tensor = torch.rand(128,20,768),\n",
    "                             attention_mask = torch.rand(128,1,1,20))"
   ]
  },
  {
   "cell_type": "code",
   "execution_count": 61,
   "metadata": {},
   "outputs": [],
   "source": [
    "class BertIntermediate(nn.Module):\n",
    "    \"\"\"\n",
    "    bert_intermediate = BertIntermediate(bert_config)\n",
    "    output = bert_intermediate(torch.rand(128,20,768))\n",
    "    output.shape # [128,20,3072]\n",
    "\n",
    "    \"\"\"\n",
    "    def __init__(self, config):\n",
    "        super(BertIntermediate, self).__init__()\n",
    "        self.dense = nn.Linear(config.hidden_size, config.intermediate_size)\n",
    "        if isinstance(config.hidden_act, str) or (sys.version_info[0] == 2 and isinstance(config.hidden_act, unicode)):\n",
    "            self.intermediate_act_fn = GeLU()\n",
    "        else:\n",
    "            self.intermediate_act_fn = config.hidden_act\n",
    "\n",
    "    def forward(self, hidden_states):\n",
    "        hidden_states = self.dense(hidden_states)\n",
    "        hidden_states = self.intermediate_act_fn(hidden_states)\n",
    "        return hidden_states"
   ]
  },
  {
   "cell_type": "code",
   "execution_count": 62,
   "metadata": {},
   "outputs": [],
   "source": [
    "class BertOutput(nn.Module):\n",
    "    \"\"\"\n",
    "    bert_output = BertOutput(bert_config)\n",
    "    output = bert_output(hidden_states = torch.rand(128,20,3072),\n",
    "                         input_tensor = torch.rand(128,20,768))\n",
    "    output.shape # [128,20,768]\n",
    "\n",
    "    \"\"\"\n",
    "    def __init__(self, config):\n",
    "        super(BertOutput, self).__init__()\n",
    "        self.dense = nn.Linear(config.intermediate_size, config.hidden_size) # [3072x768]\n",
    "        self.LayerNorm = BertLayerNorm(config.hidden_size, eps=1e-12)\n",
    "        self.dropout = nn.Dropout(config.hidden_dropout_prob)\n",
    "\n",
    "    def forward(self, hidden_states, input_tensor):\n",
    "        hidden_states = self.dense(hidden_states)\n",
    "        hidden_states = self.dropout(hidden_states)\n",
    "        hidden_states = self.LayerNorm(hidden_states + input_tensor)\n",
    "        return hidden_states"
   ]
  },
  {
   "cell_type": "code",
   "execution_count": 63,
   "metadata": {},
   "outputs": [],
   "source": [
    "class BertLayer(nn.Module):\n",
    "    \"\"\"\n",
    "    from transformers import BertConfig\n",
    "    bert_layer  = BertLayer(BertConfig())\n",
    "    output = bert_layer(torch.rand(128,20,768),torch.rand(128,1,1,20))\n",
    "    output.shape [128,20,768]\n",
    "    \"\"\"\n",
    "    def __init__(self, config, params):\n",
    "        super(BertLayer, self).__init__()\n",
    "        self.attention = BertSelfattLayer(config, params)\n",
    "        self.intermediate = BertIntermediate(config)\n",
    "        self.output = BertOutput(config)\n",
    "\n",
    "    def forward(self, hidden_states, attention_mask):\n",
    "        attention_output, att_probs = self.attention(hidden_states, attention_mask) # [128, 20, 768]\n",
    "        intermediate_output = self.intermediate(attention_output)\n",
    "        # [128,20,3072], [128,20,768]\n",
    "        layer_output = self.output(intermediate_output, attention_output) # [128,20,768]\n",
    "        return layer_output, att_probs"
   ]
  },
  {
   "cell_type": "code",
   "execution_count": 65,
   "metadata": {},
   "outputs": [],
   "source": [
    "bert_layer  = BertLayer(BertConfig(), params)\n",
    "output = bert_layer(torch.rand(128,20,768),torch.rand(128,1,1,20))"
   ]
  },
  {
   "cell_type": "code",
   "execution_count": 71,
   "metadata": {},
   "outputs": [],
   "source": [
    "class LXRTXLayer(nn.Module):\n",
    "    \"\"\"\n",
    "    from transformers import BertConfig\n",
    "    lxrtx_layer = LXRTXLayer(BertConfig())\n",
    "    output = lxrtx_layer(lang_feats = torch.rand(128,20,768),\n",
    "                      lang_attention_mask = torch.rand(128,1,1,20),\n",
    "                      visn_feats = torch.rand(128,36,768),\n",
    "                      visn_attention_mask = None)\n",
    "\n",
    "    lang_output.shape: [128,20,768]\n",
    "    visn_output.shape: [128,36,768]\n",
    "    \n",
    "    \"\"\"\n",
    "    def __init__(self, config, params):\n",
    "        super().__init__()\n",
    "        # The cross-attention Layer\n",
    "        self.visual_attention = BertCrossattLayer(config, params)\n",
    "\n",
    "        # Self-attention Layers\n",
    "        self.lang_self_att = BertSelfattLayer(config, params)\n",
    "        self.visn_self_att = BertSelfattLayer(config, params)\n",
    "\n",
    "        # Intermediate and Output Layers (FFNs)\n",
    "        self.lang_inter = BertIntermediate(config)\n",
    "        self.lang_output = BertOutput(config)\n",
    "        self.visn_inter = BertIntermediate(config)\n",
    "        self.visn_output = BertOutput(config)\n",
    "        self.att_dict_lxrtx = {}\n",
    "        \n",
    "    def cross_att(self, lang_input, lang_attention_mask, visn_input, visn_attention_mask):\n",
    "        # Cross Attention\n",
    "        lang_att_output, self.att_dict_lxrtx['cross_lang_att'] = self.visual_attention(lang_input, visn_input, ctx_att_mask=visn_attention_mask)\n",
    "        visn_att_output, self.att_dict_lxrtx['cross_visn_att'] = self.visual_attention(visn_input, lang_input, ctx_att_mask=lang_attention_mask)\n",
    "        return lang_att_output, visn_att_output, self.att_dict_lxrtx\n",
    "\n",
    "    def self_att(self, lang_input, lang_attention_mask, visn_input, visn_attention_mask):\n",
    "        # Self Attention\n",
    "        lang_att_output, self.att_dict_lxrtx['self_lang_att'] = self.lang_self_att(lang_input, lang_attention_mask)\n",
    "        visn_att_output, self.att_dict_lxrtx['self_visn_att'] = self.visn_self_att(visn_input, visn_attention_mask)\n",
    "        return lang_att_output, visn_att_output, self.att_dict_lxrtx\n",
    "\n",
    "    def output_fc(self, lang_input, visn_input):\n",
    "        # FC layers\n",
    "        lang_inter_output = self.lang_inter(lang_input)\n",
    "        visn_inter_output = self.visn_inter(visn_input)\n",
    "\n",
    "        # Layer output\n",
    "        lang_output = self.lang_output(lang_inter_output, lang_input)\n",
    "        visn_output = self.visn_output(visn_inter_output, visn_input)\n",
    "        return lang_output, visn_output\n",
    "\n",
    "    def forward(self, lang_feats, lang_attention_mask,\n",
    "                      visn_feats, visn_attention_mask):\n",
    "        lang_att_output = lang_feats\n",
    "        visn_att_output = visn_feats\n",
    "\n",
    "        lang_att_output, visn_att_output, self.att_dict_lxrtx = self.cross_att(lang_att_output, lang_attention_mask,\n",
    "                                                          visn_att_output, visn_attention_mask)\n",
    "        \n",
    "        lang_att_output, visn_att_output, self.att_dict_lxrtx = self.self_att(lang_att_output, lang_attention_mask,\n",
    "                                                         visn_att_output, visn_attention_mask)\n",
    "        lang_output, visn_output = self.output_fc(lang_att_output, visn_att_output)\n",
    "\n",
    "        return lang_output, visn_output, self.att_dict_lxrtx"
   ]
  },
  {
   "cell_type": "code",
   "execution_count": 72,
   "metadata": {},
   "outputs": [],
   "source": [
    "lxrtx_layer = LXRTXLayer(BertConfig(), params)\n",
    "output = lxrtx_layer(lang_feats = torch.rand(128,20,768),\n",
    "                      lang_attention_mask = torch.rand(128,1,1,20),\n",
    "                      visn_feats = torch.rand(128,36,768),\n",
    "                      visn_attention_mask = None)"
   ]
  },
  {
   "cell_type": "code",
   "execution_count": 73,
   "metadata": {},
   "outputs": [
    {
     "data": {
      "text/plain": [
       "dict_keys(['cross_lang_att', 'cross_visn_att', 'self_lang_att', 'self_visn_att'])"
      ]
     },
     "execution_count": 73,
     "metadata": {},
     "output_type": "execute_result"
    }
   ],
   "source": [
    "output[2].keys()"
   ]
  },
  {
   "cell_type": "code",
   "execution_count": 74,
   "metadata": {},
   "outputs": [],
   "source": [
    "class VisualFeatEncoder(nn.Module):\n",
    "    \"\"\"\n",
    "\n",
    "    from transformers import BertConfig\n",
    "    \n",
    "    visual_feat_encoder = VisualFeatEncoder(BertConfig())\n",
    "    output = visual_feat_encoder((torch.rand(128,36,2048),torch.rand(128,36,4))) img_feats+box_feats\n",
    "    \n",
    "    output.shape: [128,36,768]\n",
    "    \"\"\"\n",
    "    def __init__(self, config):\n",
    "        super().__init__()\n",
    "        feat_dim = VISUAL_CONFIG.visual_feat_dim\n",
    "        pos_dim = VISUAL_CONFIG.visual_pos_dim\n",
    "\n",
    "        # Object feature encoding\n",
    "        self.visn_fc = nn.Linear(feat_dim, config.hidden_size)\n",
    "        self.visn_layer_norm = BertLayerNorm(config.hidden_size, eps=1e-12)\n",
    "\n",
    "        # Box position encoding\n",
    "        self.box_fc = nn.Linear(pos_dim, config.hidden_size)\n",
    "        self.box_layer_norm = BertLayerNorm(config.hidden_size, eps=1e-12)\n",
    "\n",
    "        self.dropout = nn.Dropout(config.hidden_dropout_prob)\n",
    "\n",
    "    def forward(self, visn_input):\n",
    "        feats, boxes = visn_input\n",
    "\n",
    "        x = self.visn_fc(feats)\n",
    "        x = self.visn_layer_norm(x)\n",
    "        y = self.box_fc(boxes)\n",
    "        y = self.box_layer_norm(y)\n",
    "        output = (x + y) / 2\n",
    "\n",
    "        output = self.dropout(output)\n",
    "        return output"
   ]
  },
  {
   "cell_type": "code",
   "execution_count": 76,
   "metadata": {},
   "outputs": [],
   "source": [
    "class LXRTEncoder(nn.Module):\n",
    "    \"\"\"\n",
    "    from transformers import BertConfig\n",
    "    lxrt_encoder = LXRTEncoder(BertConfig())\n",
    "\n",
    "    output = lxrt_encoder(lang_feats = torch.rand(128,20,768),\n",
    "                      lang_attention_mask = torch.rand(128,1,1,20),\n",
    "                      visn_feats = (torch.rand(128,36,2048),torch.rand(128,36,4)),\n",
    "                      visn_attention_mask = None)\n",
    "\n",
    "    lang_feats.shape: [128,20,768]\n",
    "    visn_feats.shape: [128,36,768]\n",
    "\n",
    "    \"\"\"\n",
    "    def __init__(self, config, params):\n",
    "        super().__init__()\n",
    "\n",
    "        # Obj-level image embedding layer\n",
    "        self.params = params\n",
    "        self.visn_fc = VisualFeatEncoder(config)\n",
    "\n",
    "        # Number of layers\n",
    "        self.num_l_layers = 9\n",
    "        self.num_x_layers = 5\n",
    "        self.num_r_layers = 5\n",
    "        print(\"LXRT encoder with %d l_layers, %d x_layers, and %d r_layers.\" %\n",
    "              (self.num_l_layers, self.num_x_layers, self.num_r_layers))\n",
    "\n",
    "        # Layers\n",
    "        # Using self.layer instead of self.l_layer to support loading BERT weights.\n",
    "        self.layer = nn.ModuleList(\n",
    "            [BertLayer(config, params = params) for _ in range(self.num_l_layers)]\n",
    "        )\n",
    "        self.r_layers = nn.ModuleList(\n",
    "            [BertLayer(config, params = params) for _ in range(self.num_r_layers)]\n",
    "        )\n",
    "        self.x_layers = nn.ModuleList(\n",
    "            [LXRTXLayer(config, params = params) for _ in range(self.num_x_layers)]\n",
    "        )\n",
    "        \n",
    "        self.att_dict = {}\n",
    "        \n",
    "        if self.params['layerdrop_enabled']==True:\n",
    "            self.layer = LayerDrop_Bert(self.layer, self.params['layerdrop_num_layers'])\n",
    "            self.r_layers = LayerDrop_Bert(self.r_layers, self.params['layerdrop_num_layers'])\n",
    "            self.x_layers = LayerDrop_Cross(self.x_layers, self.params['layerdrop_num_layers'])\n",
    "        \n",
    "        \n",
    "\n",
    "    def forward(self, lang_feats, lang_attention_mask,\n",
    "                visn_feats, visn_attention_mask=None):\n",
    "        # Run visual embedding layer\n",
    "        # Note: Word embedding layer was executed outside this module.\n",
    "        #       Keep this design to allow loading BERT weights.\n",
    "        visn_feats = self.visn_fc(visn_feats)   #  [bs, 36, 768]\n",
    "\n",
    "        \n",
    "        if not self.params['layerdrop_enabled']:\n",
    "            # Run language layers\n",
    "            for idx, layer_module in enumerate(self.layer):\n",
    "                lang_feats, self.att_dict['lang_att_'+ str(idx)] = layer_module(lang_feats, lang_attention_mask)\n",
    "            # Run relational layers\n",
    "            for idx, layer_module in enumerate(self.r_layers):\n",
    "                visn_feats, self.att_dict['visn_att_'+ str(idx)] = layer_module(visn_feats, visn_attention_mask)\n",
    "            # Run cross-modality layers\n",
    "            for idx, layer_module in enumerate(self.x_layers):\n",
    "                lang_feats, visn_feats, self.att_dict['cross_att_'+ str(idx)] = layer_module(lang_feats, lang_attention_mask,\n",
    "                                                  visn_feats, visn_attention_mask)\n",
    "        else:\n",
    "            lang_feats = self.layer(lang_feats, lang_attention_mask)\n",
    "            visn_feats = self.r_layers(visn_feats, visn_attention_mask)\n",
    "            lang_feats, visn_feats = self.x_layers(lang_feats, lang_attention_mask,\n",
    "                                                  visn_feats, visn_attention_mask)\n",
    "\n",
    "        return lang_feats, visn_feats, self.att_dict"
   ]
  },
  {
   "cell_type": "code",
   "execution_count": 77,
   "metadata": {},
   "outputs": [
    {
     "name": "stdout",
     "output_type": "stream",
     "text": [
      "LXRT encoder with 9 l_layers, 5 x_layers, and 5 r_layers.\n"
     ]
    }
   ],
   "source": [
    "lxrt_encoder = LXRTEncoder(BertConfig(), params)\n",
    "\n",
    "output = lxrt_encoder(lang_feats = torch.rand(128,20,768),\n",
    "                      lang_attention_mask = torch.rand(128,1,1,20),\n",
    "                      visn_feats = (torch.rand(128,36,2048),torch.rand(128,36,4)),\n",
    "                      visn_attention_mask = None)"
   ]
  },
  {
   "cell_type": "code",
   "execution_count": 78,
   "metadata": {},
   "outputs": [],
   "source": [
    "class BertPooler(nn.Module):\n",
    "    def __init__(self, config):\n",
    "        super(BertPooler, self).__init__()\n",
    "        self.dense = nn.Linear(config.hidden_size, config.hidden_size)\n",
    "        self.activation = nn.Tanh()\n",
    "\n",
    "    def forward(self, hidden_states):\n",
    "        # We \"pool\" the model by simply taking the hidden state corresponding\n",
    "        # to the first token.\n",
    "        first_token_tensor = hidden_states[:, 0]\n",
    "        pooled_output = self.dense(first_token_tensor)\n",
    "        pooled_output = self.activation(pooled_output)\n",
    "        return pooled_output"
   ]
  },
  {
   "cell_type": "code",
   "execution_count": 79,
   "metadata": {},
   "outputs": [],
   "source": [
    "class LXRTModel(BertPreTrainedModel):\n",
    "    \"\"\"\n",
    "    LXRT Model.\n",
    "    \n",
    "    model = LXRTModel.from_pretrained(\"bert-base-uncased\")\n",
    "    \n",
    "    output = model(input_ids = torch.rand(128,20).long(), \n",
    "               token_type_ids = torch.rand(128,20).long(),\n",
    "               attention_mask = torch.rand(128,32).long(),\n",
    "               visual_feats = (torch.rand(128,36,2048),torch.rand(128,36,4)),\n",
    "               visual_attention_mask = None)\n",
    "    \n",
    "    \n",
    "    lang_feats.shape -> [128, 20, 768]\n",
    "    vision_feats.shape -> [128, 36, 768]\n",
    "    pooled_output.shape -> [128,768]\n",
    "    \n",
    "    \"\"\"\n",
    "\n",
    "    def __init__(self, config, params):\n",
    "        super().__init__(config)\n",
    "        self.embeddings = BertEmbeddings(config)\n",
    "        self.encoder = LXRTEncoder(config, params)\n",
    "        self.pooler = BertPooler(config)\n",
    "        self.apply(self.init_bert_weights)\n",
    "\n",
    "    def forward(self, input_ids, token_type_ids=None, attention_mask=None,\n",
    "                visual_feats=None, visual_attention_mask=None):\n",
    "        if attention_mask is None:\n",
    "            attention_mask = torch.ones_like(input_ids)\n",
    "        if token_type_ids is None:\n",
    "            token_type_ids = torch.zeros_like(input_ids)\n",
    "\n",
    "        # We create a 3D attention mask from a 2D tensor mask.\n",
    "        # Sizes are [batch_size, 1, 1, to_seq_length]\n",
    "        # So we can broadcast to [batch_size, num_heads, from_seq_length, to_seq_length]\n",
    "        # this attention mask is more simple than the triangular masking of causal attention\n",
    "        # used in OpenAI GPT, we just need to prepare the broadcast dimension here.\n",
    "        \n",
    "        #print('Attention Mask', attention_mask.shape) : [128, 20]\n",
    "        extended_attention_mask = attention_mask.unsqueeze(1).unsqueeze(2)\n",
    "        \n",
    "        # print('Extended Attention Mask', extended_attention_mask.shape): [128, 1, 1, 20]\n",
    "        \n",
    "        # Since attention_mask is 1.0 for positions we want to attend and 0.0 for\n",
    "        # masked positions, this operation will create a tensor which is 0.0 for\n",
    "        # positions we want to attend and -10000.0 for masked positions.\n",
    "        # Since we are adding it to the raw scores before the softmax, this is\n",
    "        # effectively the same as removing these entirely.\n",
    "        \n",
    "        extended_attention_mask = extended_attention_mask.to(dtype=next(self.parameters()).dtype) # fp16 compatibility\n",
    "        extended_attention_mask = (1.0 - extended_attention_mask) * -10000.0\n",
    "        \n",
    "        # print('Extended Attention Mask 1k', extended_attention_mask.shape): [128, 1, 1, 20]\n",
    "        \n",
    "        # Process the visual attention mask\n",
    "        if visual_attention_mask is not None:\n",
    "            extended_visual_attention_mask = visual_attention_mask.unsqueeze(1).unsqueeze(2)\n",
    "            extended_visual_attention_mask = extended_visual_attention_mask.to(dtype=next(self.parameters()).dtype) # fp16 compatibility\n",
    "            extended_visual_attention_mask = (1.0 - extended_visual_attention_mask) * -10000.0\n",
    "        else:\n",
    "            extended_visual_attention_mask = None\n",
    "        \n",
    "        # print('Extended Visual Attention Mask', extended_visual_attention_mask.shape) Shape: None\n",
    "        \n",
    "        # Positional Word Embeddings\n",
    "        embedding_output = self.embeddings(input_ids, token_type_ids)\n",
    "        \n",
    "        # print('Embedding Output', embedding_output.shape): [128,20,768]\n",
    "        \n",
    "        # Run LXRT backbone\n",
    "        \n",
    "        \n",
    "        lang_feats, visn_feats, att_dict = self.encoder(\n",
    "            embedding_output,\n",
    "            extended_attention_mask,\n",
    "            visn_feats=visual_feats,\n",
    "            visn_attention_mask=extended_visual_attention_mask)\n",
    "        \n",
    "        pooled_output = self.pooler(lang_feats)\n",
    "\n",
    "        return (lang_feats, visn_feats), pooled_output, att_dict"
   ]
  },
  {
   "cell_type": "code",
   "execution_count": 80,
   "metadata": {},
   "outputs": [],
   "source": [
    "# model = LXRTModel.from_pretrained(\"bert-base-uncased\", params)\n",
    "# output = model(input_ids = torch.rand(128,20).long(), \n",
    "#                token_type_ids = torch.rand(128,20).long(),\n",
    "#                attention_mask = torch.rand(128,32).long(),\n",
    "#                visual_feats = (torch.rand(128,36,2048),torch.rand(128,36,4)),\n",
    "#                visual_attention_mask = None)"
   ]
  },
  {
   "cell_type": "code",
   "execution_count": 81,
   "metadata": {},
   "outputs": [],
   "source": [
    "class VisualBertForLXRFeature(BertPreTrainedModel):\n",
    "    \"\"\"\n",
    "    BERT model for classification.\n",
    "    \n",
    "    bert = VisualBertForLXRFeature.from_pretrained(\"bert-base-uncased\",mode='x')\n",
    "    \n",
    "    output = bert(input_ids = torch.rand(128,20).long(), \n",
    "              token_type_ids = torch.rand(128,20).long(),\n",
    "              attention_mask = torch.rand(128,20).long(),\n",
    "              visual_feats = (torch.rand(128,36,2048),torch.rand(128,36,4)), # for feats and boxes\n",
    "              visual_attention_mask = None)\n",
    "              \n",
    "    output.shape -> [128,768]          ,\n",
    "    \"\"\"\n",
    "    def __init__(self, config, params, mode='lxr',):\n",
    "        \"\"\"\n",
    "        :param config:\n",
    "        :param mode:  Number of visual layers\n",
    "        \"\"\"\n",
    "        super().__init__(config)\n",
    "        self.bert = LXRTModel(config,params)\n",
    "        self.mode = mode\n",
    "        self.apply(self.init_bert_weights)\n",
    "\n",
    "    def forward(self, input_ids, token_type_ids=None, attention_mask=None, visual_feats=None,\n",
    "                visual_attention_mask=None):\n",
    "        feat_seq, pooled_output, att_dict = self.bert(input_ids, token_type_ids, attention_mask,\n",
    "                                            visual_feats=visual_feats,\n",
    "                                            visual_attention_mask=visual_attention_mask)\n",
    "        if 'x' == self.mode:\n",
    "            return pooled_output, att_dict\n",
    "        elif 'x' in self.mode and ('l' in self.mode or 'r' in self.mode):\n",
    "            return feat_seq, pooled_output\n",
    "        elif 'l' in self.mode or 'r' in self.mode:\n",
    "            return feat_seq"
   ]
  },
  {
   "cell_type": "code",
   "execution_count": 82,
   "metadata": {},
   "outputs": [
    {
     "name": "stderr",
     "output_type": "stream",
     "text": [
      "I0211 20:33:02.236237 139791313177472 lxmert_utils.py:199] loading archive file https://s3.amazonaws.com/models.huggingface.co/bert/bert-base-uncased.tar.gz from cache at /home/u37216/.pytorch_pretrained_bert/9c41111e2de84547a463fd39217199738d1e3deb72d4fec4399e6e241983c6f0.ae3cef932725ca7a30cdcb93fc6e09150a55e2a130ec7af63975a16c153ae2ba\n",
      "I0211 20:33:02.268468 139791313177472 lxmert_utils.py:207] extracting archive file /home/u37216/.pytorch_pretrained_bert/9c41111e2de84547a463fd39217199738d1e3deb72d4fec4399e6e241983c6f0.ae3cef932725ca7a30cdcb93fc6e09150a55e2a130ec7af63975a16c153ae2ba to temp dir /home/u37216/tmp/tmpp7n20p5t\n",
      "I0211 20:33:09.100835 139791313177472 lxmert_utils.py:214] Model config {\n",
      "  \"attention_probs_dropout_prob\": 0.1,\n",
      "  \"finetuning_task\": null,\n",
      "  \"hidden_act\": \"gelu\",\n",
      "  \"hidden_dropout_prob\": 0.1,\n",
      "  \"hidden_size\": 768,\n",
      "  \"id2label\": {\n",
      "    \"0\": \"LABEL_0\",\n",
      "    \"1\": \"LABEL_1\"\n",
      "  },\n",
      "  \"initializer_range\": 0.02,\n",
      "  \"intermediate_size\": 3072,\n",
      "  \"is_decoder\": false,\n",
      "  \"label2id\": {\n",
      "    \"LABEL_0\": 0,\n",
      "    \"LABEL_1\": 1\n",
      "  },\n",
      "  \"layer_norm_eps\": 1e-12,\n",
      "  \"max_position_embeddings\": 512,\n",
      "  \"num_attention_heads\": 12,\n",
      "  \"num_hidden_layers\": 12,\n",
      "  \"num_labels\": 2,\n",
      "  \"output_attentions\": false,\n",
      "  \"output_hidden_states\": false,\n",
      "  \"output_past\": true,\n",
      "  \"pruned_heads\": {},\n",
      "  \"torchscript\": false,\n",
      "  \"type_vocab_size\": 2,\n",
      "  \"use_bfloat16\": false,\n",
      "  \"vocab_size\": 30522\n",
      "}\n",
      "\n"
     ]
    },
    {
     "name": "stdout",
     "output_type": "stream",
     "text": [
      "LXRT encoder with 9 l_layers, 5 x_layers, and 5 r_layers.\n"
     ]
    }
   ],
   "source": [
    "model = VisualBertForLXRFeature.from_pretrained(\"bert-base-uncased\", params=params, mode='r')\n",
    "output = model(input_ids = torch.rand(128,20).long(), \n",
    "               token_type_ids = torch.rand(128,20).long(),\n",
    "               attention_mask = torch.rand(128,20).long(),\n",
    "               visual_feats = (torch.rand(128,36,2048),torch.rand(128,36,4)),\n",
    "               visual_attention_mask = None)"
   ]
  },
  {
   "cell_type": "code",
   "execution_count": 83,
   "metadata": {},
   "outputs": [],
   "source": [
    "class LXRTEncoder_(nn.Module):\n",
    "    \"\"\"\n",
    "    Usage:\n",
    "        Input:\n",
    "            lxrt_encoder = LXRTEncoder(args,MAX_VQA_LENGTH=20).cuda()\n",
    "            feat = torch.rand(128,36,2048).cuda()\n",
    "            pos = torch.rand(128,36,4).cuda()\n",
    "            sent = list(sentences) # len(sent) = batch_size i.e 128\n",
    "        \n",
    "        Output:\n",
    "            output = lxrt_encoder(sent, (feat.cuda(), pos.cuda())) # [128,768]\n",
    "    \"\"\"\n",
    "    def __init__(self, max_seq_length, params, mode='x'):\n",
    "        super().__init__()\n",
    "        self.max_seq_length = max_seq_length\n",
    "        set_visual_config(params)\n",
    "\n",
    "        # Using the bert tokenizer\n",
    "        self.tokenizer = BertTokenizer.from_pretrained(\n",
    "            \"bert-base-uncased\",\n",
    "            do_lower_case=True\n",
    "        )\n",
    "\n",
    "        # Build LXRT Model\n",
    "        self.model = VisualBertForLXRFeature.from_pretrained(\n",
    "            \"bert-base-uncased\",\n",
    "            params = params,\n",
    "            mode=mode,\n",
    "        )\n",
    "\n",
    "        if params['from_scratch']:\n",
    "            print(\"initializing all the weights\")\n",
    "            self.model.apply(self.model.init_bert_weights)\n",
    "\n",
    "    def multi_gpu(self):\n",
    "        self.model = nn.DataParallel(self.model)\n",
    "\n",
    "    @property\n",
    "    def dim(self):\n",
    "        return 768\n",
    "\n",
    "    def forward(self, sents, feats, visual_attention_mask=None):\n",
    "        \n",
    "        train_features = convert_sents_to_features(\n",
    "            sents, self.max_seq_length, self.tokenizer)\n",
    "\n",
    "        input_ids = torch.tensor([f.input_ids for f in train_features], dtype=torch.long).to(device) #[128,20]\n",
    "        input_mask = torch.tensor([f.input_mask for f in train_features], dtype=torch.long).to(device) #[128,20]\n",
    "        segment_ids = torch.tensor([f.segment_ids for f in train_features], dtype=torch.long).to(device) #[128,20]\n",
    "        \n",
    "        output, att_dict = self.model(input_ids, segment_ids, input_mask,\n",
    "                            visual_feats=feats,\n",
    "                            visual_attention_mask=visual_attention_mask)\n",
    "        return output, att_dict\n",
    "\n",
    "    def save(self, path):\n",
    "        torch.save(self.model.state_dict(),\n",
    "                   os.path.join(\"%s_LXRT.pth\" % path))\n",
    "\n",
    "    def load(self, path):\n",
    "        # Load state_dict from snapshot file\n",
    "        print(\"Load LXMERT pre-trained model from %s\" % path)\n",
    "        state_dict = torch.load(\"%s_LXRT.pth\" % path)\n",
    "        new_state_dict = {}\n",
    "        for key, value in state_dict.items():\n",
    "            if key.startswith(\"module.\"):\n",
    "                new_state_dict[key[len(\"module.\"):]] = value\n",
    "            else:\n",
    "                new_state_dict[key] = value\n",
    "        state_dict = new_state_dict\n",
    "\n",
    "        # Print out the differences of pre-trained and model weights.\n",
    "        load_keys = set(state_dict.keys())\n",
    "        model_keys = set(self.model.state_dict().keys())\n",
    "        print()\n",
    "        print(\"Weights in loaded but not in model:\")\n",
    "        for key in sorted(load_keys.difference(model_keys)):\n",
    "            print(key)\n",
    "        print()\n",
    "        print(\"Weights in model but not in loaded:\")\n",
    "        for key in sorted(model_keys.difference(load_keys)):\n",
    "            print(key)\n",
    "        print()\n",
    "\n",
    "        # Load weights to model\n",
    "        self.model.load_state_dict(state_dict, strict=False)"
   ]
  },
  {
   "cell_type": "code",
   "execution_count": 84,
   "metadata": {},
   "outputs": [],
   "source": [
    "class VQAModel_Adaptive(nn.Module):\n",
    "    def __init__(self, num_answers,params):\n",
    "        super().__init__()\n",
    "        \n",
    "        # Build LXRT encoder\n",
    "        self.lxrt_encoder = LXRTEncoder_(\n",
    "            max_seq_length=MAX_VQA_LENGTH,\n",
    "            params = params\n",
    "        )\n",
    "        hid_dim = self.lxrt_encoder.dim\n",
    "        \n",
    "        # VQA Answer heads\n",
    "        self.logit_fc = nn.Sequential(\n",
    "            nn.Linear(hid_dim, hid_dim * 2),\n",
    "            GeLU(),\n",
    "            BertLayerNorm(hid_dim * 2, eps=1e-12),\n",
    "            nn.Linear(hid_dim * 2, num_answers)\n",
    "        )\n",
    "        self.logit_fc.apply(self.lxrt_encoder.model.init_bert_weights)\n",
    "        if params['adapt_span_enabled']:\n",
    "            print(\"Using Adaptive Variant\")\n",
    "        if params['sparse_enabled']:\n",
    "            print(\"Sparse Enabled\")\n",
    "        if params['layerdrop_enabled']:\n",
    "            print(\"LayerDrop is enabled with dropping rate set to \", params['layerdrop_num_layers'])\n",
    "            \n",
    "    def forward(self, feat, pos, sent):\n",
    "        \"\"\"\n",
    "        b -- batch_size, o -- object_number, f -- visual_feature_size\n",
    "        :param feat: (b, o, f) # [128, 36, 2048]\n",
    "        :param pos:  (b, o, 4) # [128, 36, 4]\n",
    "        :param sent: (b,) Type -- list of string # 128\n",
    "        :param leng: (b,) Type -- int numpy array # [128, 3129]\n",
    "        :return: (b, num_answer) The logit of each answers.\n",
    "        \"\"\"\n",
    "        x, att_dict = self.lxrt_encoder(sent, (feat, pos))\n",
    "        logit = self.logit_fc(x)\n",
    "\n",
    "        return logit, att_dict"
   ]
  },
  {
   "cell_type": "code",
   "execution_count": 85,
   "metadata": {},
   "outputs": [
    {
     "name": "stderr",
     "output_type": "stream",
     "text": [
      "I0211 20:33:20.190214 139791313177472 tokenization_utils.py:398] loading file https://s3.amazonaws.com/models.huggingface.co/bert/bert-base-uncased-vocab.txt from cache at /home/u37216/.cache/torch/transformers/26bc1ad6c0ac742e9b52263248f6d0f00068293b33709fae12320c0e35ccfbbb.542ce4285a40d23a559526243235df47c5f75c197f04f37d1a0c124c32c9a084\n",
      "I0211 20:33:20.536740 139791313177472 lxmert_utils.py:199] loading archive file https://s3.amazonaws.com/models.huggingface.co/bert/bert-base-uncased.tar.gz from cache at /home/u37216/.pytorch_pretrained_bert/9c41111e2de84547a463fd39217199738d1e3deb72d4fec4399e6e241983c6f0.ae3cef932725ca7a30cdcb93fc6e09150a55e2a130ec7af63975a16c153ae2ba\n",
      "I0211 20:33:20.577687 139791313177472 lxmert_utils.py:207] extracting archive file /home/u37216/.pytorch_pretrained_bert/9c41111e2de84547a463fd39217199738d1e3deb72d4fec4399e6e241983c6f0.ae3cef932725ca7a30cdcb93fc6e09150a55e2a130ec7af63975a16c153ae2ba to temp dir /home/u37216/tmp/tmpc96vsejs\n",
      "I0211 20:33:27.516214 139791313177472 lxmert_utils.py:214] Model config {\n",
      "  \"attention_probs_dropout_prob\": 0.1,\n",
      "  \"finetuning_task\": null,\n",
      "  \"hidden_act\": \"gelu\",\n",
      "  \"hidden_dropout_prob\": 0.1,\n",
      "  \"hidden_size\": 768,\n",
      "  \"id2label\": {\n",
      "    \"0\": \"LABEL_0\",\n",
      "    \"1\": \"LABEL_1\"\n",
      "  },\n",
      "  \"initializer_range\": 0.02,\n",
      "  \"intermediate_size\": 3072,\n",
      "  \"is_decoder\": false,\n",
      "  \"label2id\": {\n",
      "    \"LABEL_0\": 0,\n",
      "    \"LABEL_1\": 1\n",
      "  },\n",
      "  \"layer_norm_eps\": 1e-12,\n",
      "  \"max_position_embeddings\": 512,\n",
      "  \"num_attention_heads\": 12,\n",
      "  \"num_hidden_layers\": 12,\n",
      "  \"num_labels\": 2,\n",
      "  \"output_attentions\": false,\n",
      "  \"output_hidden_states\": false,\n",
      "  \"output_past\": true,\n",
      "  \"pruned_heads\": {},\n",
      "  \"torchscript\": false,\n",
      "  \"type_vocab_size\": 2,\n",
      "  \"use_bfloat16\": false,\n",
      "  \"vocab_size\": 30522\n",
      "}\n",
      "\n"
     ]
    },
    {
     "name": "stdout",
     "output_type": "stream",
     "text": [
      "LXRT encoder with 9 l_layers, 5 x_layers, and 5 r_layers.\n",
      "Using Adaptive Variant\n"
     ]
    }
   ],
   "source": [
    "model = VQAModel_Adaptive(3129, params)"
   ]
  },
  {
   "cell_type": "code",
   "execution_count": 86,
   "metadata": {},
   "outputs": [
    {
     "name": "stderr",
     "output_type": "stream",
     "text": [
      "\r",
      "0it [00:00, ?it/s]"
     ]
    },
    {
     "name": "stdout",
     "output_type": "stream",
     "text": [
      "Load 632117 data from split(s) train,nominival.\n",
      "Start to load Faster-RCNN detected objects from /home/u37216/data/mscoco_imgfeat/train2014_obj36.tsv\n"
     ]
    },
    {
     "name": "stderr",
     "output_type": "stream",
     "text": [
      "489it [00:02, 176.63it/s]\n",
      "19it [00:00, 184.90it/s]"
     ]
    },
    {
     "name": "stdout",
     "output_type": "stream",
     "text": [
      "Loaded 500 images in file /home/u37216/data/mscoco_imgfeat/train2014_obj36.tsv in 2 seconds.\n",
      "Start to load Faster-RCNN detected objects from /home/u37216/data/mscoco_imgfeat/val2014_obj36.tsv\n"
     ]
    },
    {
     "name": "stderr",
     "output_type": "stream",
     "text": [
      "487it [00:02, 175.63it/s]\n"
     ]
    },
    {
     "name": "stdout",
     "output_type": "stream",
     "text": [
      "Loaded 500 images in file /home/u37216/data/mscoco_imgfeat/val2014_obj36.tsv in 2 seconds.\n"
     ]
    },
    {
     "name": "stderr",
     "output_type": "stream",
     "text": [
      "17it [00:00, 161.31it/s]"
     ]
    },
    {
     "name": "stdout",
     "output_type": "stream",
     "text": [
      "Use 2810 data in torch dataset\n",
      "\n",
      "Load 25994 data from split(s) minival.\n",
      "Start to load Faster-RCNN detected objects from /home/u37216/data/mscoco_imgfeat/val2014_obj36.tsv\n"
     ]
    },
    {
     "name": "stderr",
     "output_type": "stream",
     "text": [
      "488it [00:02, 176.93it/s]"
     ]
    },
    {
     "name": "stdout",
     "output_type": "stream",
     "text": [
      "Loaded 500 images in file /home/u37216/data/mscoco_imgfeat/val2014_obj36.tsv in 2 seconds.\n",
      "Use 2546 data in torch dataset\n",
      "\n"
     ]
    },
    {
     "name": "stderr",
     "output_type": "stream",
     "text": [
      "\n"
     ]
    }
   ],
   "source": [
    "class Args():\n",
    "    def __init__(self):\n",
    "        self.tiny = True\n",
    "        self.bs = 128\n",
    "args = Args()\n",
    "\n",
    "DataTuple = collections.namedtuple(\"DataTuple\", 'dataset loader evaluator')\n",
    "\n",
    "def get_data_tuple(path: str, mscoco_path: str, splits: str, tiny: bool,bs:int, shuffle=False, drop_last=False) -> DataTuple:\n",
    "    dset = VQADataset(path,splits)\n",
    "    tset = VQATorchDataset(dset,mscoco_path,tiny)\n",
    "    evaluator = VQAEvaluator(dset)\n",
    "    pin_memory = True if torch.cuda.is_available() else False\n",
    "    data_loader = DataLoader(\n",
    "        tset, batch_size=bs,\n",
    "        shuffle=shuffle, num_workers=1,\n",
    "        drop_last=drop_last, pin_memory=pin_memory\n",
    "    )\n",
    "\n",
    "    return DataTuple(dataset=dset,loader=data_loader, evaluator=evaluator)\n",
    "\n",
    "train_tuple = get_data_tuple(VQA_DATA_ROOT, MSCOCO_IMGFEAT_ROOT, 'train,nominival', args.tiny, args.bs,True,True)\n",
    "valid_tuple = get_data_tuple(VQA_DATA_ROOT, MSCOCO_IMGFEAT_ROOT,'minival',args.tiny,args.bs,True,True)"
   ]
  },
  {
   "cell_type": "code",
   "execution_count": 48,
   "metadata": {},
   "outputs": [
    {
     "name": "stderr",
     "output_type": "stream",
     "text": [
      "\r",
      "0it [00:00, ?it/s]"
     ]
    },
    {
     "name": "stdout",
     "output_type": "stream",
     "text": [
      "Load 632117 data from split(s) train,nominival.\n",
      "Start to load Faster-RCNN detected objects from /home/u37216/data/mscoco_imgfeat/train2014_obj36.tsv\n"
     ]
    },
    {
     "name": "stderr",
     "output_type": "stream",
     "text": [
      "491it [00:02, 178.46it/s]\n",
      "19it [00:00, 183.42it/s]"
     ]
    },
    {
     "name": "stdout",
     "output_type": "stream",
     "text": [
      "Loaded 500 images in file /home/u37216/data/mscoco_imgfeat/train2014_obj36.tsv in 2 seconds.\n",
      "Start to load Faster-RCNN detected objects from /home/u37216/data/mscoco_imgfeat/val2014_obj36.tsv\n"
     ]
    },
    {
     "name": "stderr",
     "output_type": "stream",
     "text": [
      "494it [00:02, 181.96it/s]\n"
     ]
    },
    {
     "name": "stdout",
     "output_type": "stream",
     "text": [
      "Loaded 500 images in file /home/u37216/data/mscoco_imgfeat/val2014_obj36.tsv in 2 seconds.\n",
      "Use 2810 data in torch dataset\n",
      "\n"
     ]
    }
   ],
   "source": [
    "dset = VQADataset(VQA_DATA_ROOT,'train,nominival')\n",
    "tset = VQATorchDataset(dset,MSCOCO_IMGFEAT_ROOT,tiny=True)"
   ]
  },
  {
   "cell_type": "code",
   "execution_count": 49,
   "metadata": {},
   "outputs": [
    {
     "name": "stderr",
     "output_type": "stream",
     "text": [
      "Traceback (most recent call last):\n",
      "  File \"/glob/intel-python/python3/lib/python3.6/multiprocessing/util.py\", line 262, in _run_finalizers\n",
      "    finalizer()\n",
      "  File \"/glob/intel-python/python3/lib/python3.6/multiprocessing/util.py\", line 186, in __call__\n",
      "    res = self._callback(*self._args, **self._kwargs)\n",
      "  File \"/glob/intel-python/python3/lib/python3.6/shutil.py\", line 480, in rmtree\n",
      "    _rmtree_safe_fd(fd, path, onerror)\n",
      "  File \"/glob/intel-python/python3/lib/python3.6/shutil.py\", line 438, in _rmtree_safe_fd\n",
      "    onerror(os.unlink, fullname, sys.exc_info())\n",
      "  File \"/glob/intel-python/python3/lib/python3.6/shutil.py\", line 436, in _rmtree_safe_fd\n",
      "    os.unlink(name, dir_fd=topfd)\n",
      "OSError: [Errno 16] Device or resource busy: '.nfs0000000880204a0100001101'\n"
     ]
    }
   ],
   "source": [
    "ques_id,feats,boxes,sent,target = next(iter(train_tuple[1]))"
   ]
  },
  {
   "cell_type": "code",
   "execution_count": 87,
   "metadata": {},
   "outputs": [],
   "source": [
    "logit, att_dict = model(feats,boxes,sent)"
   ]
  },
  {
   "cell_type": "code",
   "execution_count": 88,
   "metadata": {},
   "outputs": [
    {
     "data": {
      "text/plain": [
       "dict_keys(['lang_att_0', 'lang_att_1', 'lang_att_2', 'lang_att_3', 'lang_att_4', 'lang_att_5', 'lang_att_6', 'lang_att_7', 'lang_att_8', 'visn_att_0', 'visn_att_1', 'visn_att_2', 'visn_att_3', 'visn_att_4', 'cross_att_0', 'cross_att_1', 'cross_att_2', 'cross_att_3', 'cross_att_4'])"
      ]
     },
     "execution_count": 88,
     "metadata": {},
     "output_type": "execute_result"
    }
   ],
   "source": [
    "att_dict.keys()"
   ]
  },
  {
   "cell_type": "code",
   "execution_count": 89,
   "metadata": {},
   "outputs": [
    {
     "data": {
      "text/plain": [
       "dict_keys(['attention_scores', 'attention_probs'])"
      ]
     },
     "execution_count": 89,
     "metadata": {},
     "output_type": "execute_result"
    }
   ],
   "source": [
    "att_dict['lang_att_0'].keys()"
   ]
  },
  {
   "cell_type": "code",
   "execution_count": 90,
   "metadata": {},
   "outputs": [],
   "source": [
    "torch.save(att_dict, home+'/snap/att_dict.pth')"
   ]
  },
  {
   "cell_type": "code",
   "execution_count": 92,
   "metadata": {},
   "outputs": [],
   "source": [
    "kl = torch.load(home+'/snap/att_dict.pth')"
   ]
  },
  {
   "cell_type": "code",
   "execution_count": 93,
   "metadata": {},
   "outputs": [
    {
     "data": {
      "text/plain": [
       "dict_keys(['lang_att_0', 'lang_att_1', 'lang_att_2', 'lang_att_3', 'lang_att_4', 'lang_att_5', 'lang_att_6', 'lang_att_7', 'lang_att_8', 'visn_att_0', 'visn_att_1', 'visn_att_2', 'visn_att_3', 'visn_att_4', 'cross_att_0', 'cross_att_1', 'cross_att_2', 'cross_att_3', 'cross_att_4'])"
      ]
     },
     "execution_count": 93,
     "metadata": {},
     "output_type": "execute_result"
    }
   ],
   "source": [
    "kl.keys()"
   ]
  },
  {
   "cell_type": "code",
   "execution_count": null,
   "metadata": {},
   "outputs": [],
   "source": []
  }
 ],
 "metadata": {
  "kernelspec": {
   "display_name": "torch",
   "language": "python",
   "name": "torch"
  },
  "language_info": {
   "codemirror_mode": {
    "name": "ipython",
    "version": 3
   },
   "file_extension": ".py",
   "mimetype": "text/x-python",
   "name": "python",
   "nbconvert_exporter": "python",
   "pygments_lexer": "ipython3",
   "version": "3.6.3"
  }
 },
 "nbformat": 4,
 "nbformat_minor": 2
}
