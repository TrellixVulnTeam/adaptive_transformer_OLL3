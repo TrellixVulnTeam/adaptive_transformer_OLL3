{
 "cells": [
  {
   "cell_type": "code",
   "execution_count": 1,
   "metadata": {},
   "outputs": [
    {
     "name": "stderr",
     "output_type": "stream",
     "text": [
      "I0116 05:33:18.139362 140429596633984 file_utils.py:35] PyTorch version 1.3.1+cpu available.\n",
      "/glob/intel-python/python3/lib/python3.6/site-packages/h5py/__init__.py:34: FutureWarning: Conversion of the second argument of issubdtype from `float` to `np.floating` is deprecated. In future, it will be treated as `np.float64 == np.dtype(float).type`.\n",
      "  from ._conv import register_converters as _register_converters\n"
     ]
    }
   ],
   "source": [
    "import math\n",
    "import torch\n",
    "from torch import nn\n",
    "import torch.nn.functional as F\n",
    "from transformers.modeling_bert import BertLayerNorm\n",
    "from transformers import BertTokenizer\n",
    "from lxrt.modeling import BertPreTrainedModel"
   ]
  },
  {
   "cell_type": "code",
   "execution_count": 2,
   "metadata": {},
   "outputs": [],
   "source": [
    "device = torch.device('cuda') if torch.cuda.is_available() else torch.device('cpu')"
   ]
  },
  {
   "cell_type": "code",
   "execution_count": 3,
   "metadata": {},
   "outputs": [],
   "source": [
    "from models.adaptive_span import _skew,_unskew, AdaptiveSpan"
   ]
  },
  {
   "cell_type": "code",
   "execution_count": 4,
   "metadata": {},
   "outputs": [],
   "source": [
    "adapt_span_params = {'adapt_span_enabled': True, 'attn_span': 32, 'adapt_span_loss': 0, 'adapt_span_ramp': 32, 'adapt_span_init': 0,\n",
    "                     'adapt_span_cache': False, 'nb_heads': 12}"
   ]
  },
  {
   "cell_type": "code",
   "execution_count": 5,
   "metadata": {},
   "outputs": [],
   "source": [
    "adaptive_span = AdaptiveSpan(**adapt_span_params)\n",
    "query, key, value = torch.rand(128,20,768), torch.rand(128,36,768), torch.rand(128,36,768)\n",
    "key_layer, value_layer, key_pe = adaptive_span.trim_memory(query,key,value,nn.Parameter(\n",
    "            torch.randn(1, 768 // 12, 32)))\n",
    "key_layer.shape, value_layer.shape, key_pe.shape\n",
    "att = adaptive_span(torch.rand(128,12,20,32))"
   ]
  },
  {
   "cell_type": "code",
   "execution_count": 6,
   "metadata": {},
   "outputs": [],
   "source": [
    "from lxrt.entry import InputFeatures,convert_sents_to_features,set_visual_config\n",
    "from lxrt.modeling import VISUAL_CONFIG"
   ]
  },
  {
   "cell_type": "code",
   "execution_count": 7,
   "metadata": {},
   "outputs": [],
   "source": [
    "from transformers import BertConfig\n",
    "bert_config = BertConfig()"
   ]
  },
  {
   "cell_type": "code",
   "execution_count": 8,
   "metadata": {},
   "outputs": [],
   "source": [
    "class GeLU(nn.Module):\n",
    "    def __init__(self):\n",
    "        super().__init__()\n",
    "    def forward(self,x):\n",
    "        return F.gelu(x)"
   ]
  },
  {
   "cell_type": "code",
   "execution_count": 9,
   "metadata": {},
   "outputs": [],
   "source": [
    "class Args():\n",
    "    def __init__(self,l_layers,x_layers,r_layers):\n",
    "        self.llayers = l_layers\n",
    "        self.xlayers = x_layers\n",
    "        self.rlayers = r_layers\n",
    "        self.from_scratch=False\n",
    "args = Args(9,5,5)\n",
    "MAX_VQA_LENGTH = 32"
   ]
  },
  {
   "cell_type": "code",
   "execution_count": 10,
   "metadata": {},
   "outputs": [
    {
     "data": {
      "text/plain": [
       "torch.Size([128, 20, 768])"
      ]
     },
     "execution_count": 10,
     "metadata": {},
     "output_type": "execute_result"
    }
   ],
   "source": [
    "## BertEmbeddings\n",
    "class BertEmbeddings(nn.Module):\n",
    "    \"\"\"Construct the embeddings from word, position and token_type embeddings.\n",
    "    \"\"\"\n",
    "    def __init__(self, config):\n",
    "        super(BertEmbeddings, self).__init__()\n",
    "        self.word_embeddings = nn.Embedding(config.vocab_size, config.hidden_size, padding_idx=0)\n",
    "        self.position_embeddings = nn.Embedding(config.max_position_embeddings, config.hidden_size, padding_idx=0)\n",
    "        self.token_type_embeddings = nn.Embedding(config.type_vocab_size, config.hidden_size, padding_idx=0)\n",
    "\n",
    "        self.LayerNorm = BertLayerNorm(config.hidden_size, eps=1e-12)\n",
    "        self.dropout = nn.Dropout(config.hidden_dropout_prob)\n",
    "\n",
    "    def forward(self, input_ids, token_type_ids=None):\n",
    "        seq_length = input_ids.size(1)\n",
    "        position_ids = torch.arange(seq_length, dtype=torch.long, device=input_ids.device)\n",
    "        position_ids = position_ids.unsqueeze(0).expand_as(input_ids)\n",
    "        if token_type_ids is None:\n",
    "            token_type_ids = torch.zeros_like(input_ids)\n",
    "\n",
    "        words_embeddings = self.word_embeddings(input_ids)\n",
    "        position_embeddings = self.position_embeddings(position_ids)\n",
    "        token_type_embeddings = self.token_type_embeddings(token_type_ids)\n",
    "\n",
    "        embeddings = words_embeddings + position_embeddings + token_type_embeddings\n",
    "        embeddings = self.LayerNorm(embeddings)\n",
    "        embeddings = self.dropout(embeddings)\n",
    "        return embeddings\n",
    "    \n",
    "from transformers import BertConfig\n",
    "bert_embeddings = BertEmbeddings(BertConfig())\n",
    "output = bert_embeddings(input_ids = torch.rand(128,20).long(),\n",
    "                         token_type_ids = torch.rand(128,20).long())\n",
    "output.shape"
   ]
  },
  {
   "cell_type": "code",
   "execution_count": 11,
   "metadata": {},
   "outputs": [],
   "source": [
    "num_attention_heads = 12\n",
    "attention_head_size = 768//12\n",
    "all_head_size = 12*64\n",
    "hidden_size = 768\n",
    "query = nn.Linear(hidden_size, all_head_size) # 768,768\n",
    "key = nn.Linear(hidden_size, all_head_size)\n",
    "value = nn.Linear(hidden_size, all_head_size)\n",
    "adaptive_span = AdaptiveSpan(**adapt_span_params)\n",
    "attn_span = adapt_span_params['attn_span']\n",
    "k_pe = nn.Parameter(torch.randn(1, hidden_size // num_attention_heads, attn_span))\n",
    "\n",
    "def transpose_for_scores(x):\n",
    "    new_x_shape = x.size()[:-1] + (num_attention_heads, attention_head_size)\n",
    "    x = x.view(*new_x_shape)\n",
    "    return x.permute(0, 2, 1, 3)"
   ]
  },
  {
   "cell_type": "code",
   "execution_count": 12,
   "metadata": {},
   "outputs": [],
   "source": [
    "hidden_states = torch.rand(128,36,768)\n",
    "context = torch.rand(128,20,768)\n",
    "attention_mask = torch.rand(128,1,1,32)"
   ]
  },
  {
   "cell_type": "code",
   "execution_count": 13,
   "metadata": {},
   "outputs": [
    {
     "name": "stdout",
     "output_type": "stream",
     "text": [
      "torch.Size([128, 36, 768])\n",
      "torch.Size([128, 20, 768])\n",
      "torch.Size([128, 20, 768])\n"
     ]
    }
   ],
   "source": [
    "q = query(hidden_states)\n",
    "print(q.shape)\n",
    "k = key(context)\n",
    "print(k.shape)\n",
    "v = key(context)\n",
    "print(v.shape)"
   ]
  },
  {
   "cell_type": "code",
   "execution_count": 14,
   "metadata": {},
   "outputs": [
    {
     "name": "stdout",
     "output_type": "stream",
     "text": [
      "torch.Size([128, 68, 768])\n",
      "torch.Size([128, 68, 768])\n",
      "torch.Size([1, 64, 32])\n"
     ]
    },
    {
     "data": {
      "text/plain": [
       "(None, None, None)"
      ]
     },
     "execution_count": 14,
     "metadata": {},
     "output_type": "execute_result"
    }
   ],
   "source": [
    "k, v, k_pe = adaptive_span.trim_memory(q,k,v,k_pe)\n",
    "print(k.shape),print(v.shape), print(k_pe.shape)"
   ]
  },
  {
   "cell_type": "code",
   "execution_count": 15,
   "metadata": {},
   "outputs": [
    {
     "name": "stdout",
     "output_type": "stream",
     "text": [
      "torch.Size([128, 12, 36, 64]) torch.Size([128, 12, 68, 64]) torch.Size([128, 12, 68, 64])\n"
     ]
    }
   ],
   "source": [
    "q = transpose_for_scores(q) \n",
    "k = transpose_for_scores(k)\n",
    "v = transpose_for_scores(v) \n",
    "print(q.shape, k.shape, v.shape)"
   ]
  },
  {
   "cell_type": "code",
   "execution_count": 16,
   "metadata": {},
   "outputs": [
    {
     "data": {
      "text/plain": [
       "torch.Size([128, 12, 64, 68])"
      ]
     },
     "execution_count": 16,
     "metadata": {},
     "output_type": "execute_result"
    }
   ],
   "source": [
    "k.transpose(-1,-2).shape"
   ]
  },
  {
   "cell_type": "code",
   "execution_count": 17,
   "metadata": {},
   "outputs": [
    {
     "name": "stdout",
     "output_type": "stream",
     "text": [
      "torch.Size([128, 12, 36, 68])\n"
     ]
    }
   ],
   "source": [
    "attention_cont = torch.matmul(q, k.transpose(-1, -2))\n",
    "print(attention_cont.shape)"
   ]
  },
  {
   "cell_type": "code",
   "execution_count": 18,
   "metadata": {},
   "outputs": [],
   "source": [
    "d0,d1,d2,d3 = attention_cont.size()"
   ]
  },
  {
   "cell_type": "code",
   "execution_count": 19,
   "metadata": {},
   "outputs": [],
   "source": [
    "attention_cont = torch.reshape(attention_cont, (d0*d1,d2,d3))"
   ]
  },
  {
   "cell_type": "code",
   "execution_count": 20,
   "metadata": {},
   "outputs": [
    {
     "name": "stdout",
     "output_type": "stream",
     "text": [
      "torch.Size([1536, 36, 32])\n"
     ]
    }
   ],
   "source": [
    "attention_cont = _unskew(attention_cont)\n",
    "print(attention_cont.shape)"
   ]
  },
  {
   "cell_type": "code",
   "execution_count": 21,
   "metadata": {},
   "outputs": [
    {
     "name": "stdout",
     "output_type": "stream",
     "text": [
      "torch.Size([128, 12, 36, 32])\n"
     ]
    }
   ],
   "source": [
    "attention_cont = torch.reshape(attention_cont, (d0,d1,d2,-1))\n",
    "print(attention_cont.shape)"
   ]
  },
  {
   "cell_type": "code",
   "execution_count": 22,
   "metadata": {},
   "outputs": [
    {
     "data": {
      "text/plain": [
       "torch.Size([128, 12, 36, 32])"
      ]
     },
     "execution_count": 22,
     "metadata": {},
     "output_type": "execute_result"
    }
   ],
   "source": [
    "attention_pos = torch.matmul(q, k_pe)\n",
    "attention_pos.shape"
   ]
  },
  {
   "cell_type": "code",
   "execution_count": 23,
   "metadata": {},
   "outputs": [],
   "source": [
    "attention_scores = attention_cont+attention_pos\n",
    "attention_scores = attention_scores/math.sqrt(hidden_size)"
   ]
  },
  {
   "cell_type": "code",
   "execution_count": 24,
   "metadata": {},
   "outputs": [],
   "source": [
    "attention_scores = attention_scores + attention_mask"
   ]
  },
  {
   "cell_type": "code",
   "execution_count": 120,
   "metadata": {},
   "outputs": [
    {
     "data": {
      "text/plain": [
       "torch.Size([128, 12, 36, 32])"
      ]
     },
     "execution_count": 120,
     "metadata": {},
     "output_type": "execute_result"
    }
   ],
   "source": [
    "attention_scores.shape"
   ]
  },
  {
   "cell_type": "code",
   "execution_count": 121,
   "metadata": {},
   "outputs": [
    {
     "name": "stdout",
     "output_type": "stream",
     "text": [
      "torch.Size([128, 12, 36, 32])\n"
     ]
    },
    {
     "data": {
      "text/plain": [
       "torch.Size([128, 12, 36, 32])"
      ]
     },
     "execution_count": 121,
     "metadata": {},
     "output_type": "execute_result"
    }
   ],
   "source": [
    "attention_probs = nn.Softmax(dim=-1)(attention_scores) # [128, 12, 20, 52]\n",
    "#print(attention_probs.shape)\n",
    "attention_probs = adaptive_span(attention_probs)\n",
    "attention_probs.shape"
   ]
  },
  {
   "cell_type": "code",
   "execution_count": 27,
   "metadata": {},
   "outputs": [],
   "source": [
    "attention_probs = nn.Dropout(bert_config.attention_probs_dropout_prob)(attention_probs)"
   ]
  },
  {
   "cell_type": "code",
   "execution_count": 28,
   "metadata": {},
   "outputs": [
    {
     "name": "stdout",
     "output_type": "stream",
     "text": [
      "torch.Size([1536, 36, 32])\n"
     ]
    }
   ],
   "source": [
    "attention_probs = torch.reshape(attention_probs, (d0*d1,d2,-1))\n",
    "print(attention_probs.shape)"
   ]
  },
  {
   "cell_type": "code",
   "execution_count": 29,
   "metadata": {},
   "outputs": [
    {
     "data": {
      "text/plain": [
       "torch.Size([1536, 36, 68])"
      ]
     },
     "execution_count": 29,
     "metadata": {},
     "output_type": "execute_result"
    }
   ],
   "source": [
    "attention_probs = _skew(attention_probs,0)\n",
    "attention_probs.shape"
   ]
  },
  {
   "cell_type": "code",
   "execution_count": 30,
   "metadata": {},
   "outputs": [
    {
     "data": {
      "text/plain": [
       "torch.Size([128, 12, 36, 68])"
      ]
     },
     "execution_count": 30,
     "metadata": {},
     "output_type": "execute_result"
    }
   ],
   "source": [
    "attention_probs = torch.reshape(attention_probs,(d0,d1,d2,-1))\n",
    "attention_probs.shape"
   ]
  },
  {
   "cell_type": "code",
   "execution_count": 31,
   "metadata": {},
   "outputs": [],
   "source": [
    "#v = v.permute(0,1,3,2)\n",
    "#v.shape"
   ]
  },
  {
   "cell_type": "code",
   "execution_count": 32,
   "metadata": {},
   "outputs": [
    {
     "data": {
      "text/plain": [
       "torch.Size([128, 12, 36, 64])"
      ]
     },
     "execution_count": 32,
     "metadata": {},
     "output_type": "execute_result"
    }
   ],
   "source": [
    "ctx_layer = torch.matmul(attention_probs, v)\n",
    "ctx_layer.shape"
   ]
  },
  {
   "cell_type": "code",
   "execution_count": 33,
   "metadata": {},
   "outputs": [
    {
     "data": {
      "text/plain": [
       "torch.Size([128, 36, 12, 64])"
      ]
     },
     "execution_count": 33,
     "metadata": {},
     "output_type": "execute_result"
    }
   ],
   "source": [
    "ctx_layer = ctx_layer.permute(0, 2, 1, 3).contiguous()\n",
    "ctx_layer.shape"
   ]
  },
  {
   "cell_type": "code",
   "execution_count": 34,
   "metadata": {},
   "outputs": [
    {
     "data": {
      "text/plain": [
       "torch.Size([128, 36, 768])"
      ]
     },
     "execution_count": 34,
     "metadata": {},
     "output_type": "execute_result"
    }
   ],
   "source": [
    "new_ctx_layer_shape = ctx_layer.size()[:-2] + (all_head_size,)\n",
    "new_ctx_layer_shape"
   ]
  },
  {
   "cell_type": "code",
   "execution_count": 35,
   "metadata": {},
   "outputs": [],
   "source": [
    "ctx_layer = ctx_layer.view(*new_ctx_layer_shape)"
   ]
  },
  {
   "cell_type": "code",
   "execution_count": null,
   "metadata": {},
   "outputs": [],
   "source": []
  },
  {
   "cell_type": "code",
   "execution_count": 38,
   "metadata": {},
   "outputs": [],
   "source": [
    "## BertAttention\n",
    "\n",
    "class BertAttention(nn.Module):\n",
    "    \"\"\"\n",
    "    from transformers import BertConfig\n",
    "    \n",
    "    bert_att = BertAttention(BertConfig())\n",
    "    context_output = bert_att(hidden_states = torch.rand(128,20,768),\n",
    "                          context = torch.rand(128,36,768),\n",
    "                          attention_mask = None)\n",
    "    context_output.shape # [128, 20, 768]\n",
    "\n",
    "    \"\"\"\n",
    "    def __init__(self, config, ctx_dim=None, adapt_span_params=None):\n",
    "        super().__init__()\n",
    "        if config.hidden_size % config.num_attention_heads != 0:\n",
    "            raise ValueError(\n",
    "                \"The hidden size (%d) is not a multiple of the number of attention \"\n",
    "                \"heads (%d)\" % (config.hidden_size, config.num_attention_heads))\n",
    "        self.num_attention_heads = config.num_attention_heads # 12\n",
    "        self.attention_head_size = config.hidden_size // config.num_attention_heads # 768/12\n",
    "        self.all_head_size = self.num_attention_heads * self.attention_head_size # 12*64\n",
    "\n",
    "        # visual_dim = 2048\n",
    "        if ctx_dim is None:\n",
    "            ctx_dim =config.hidden_size\n",
    "        self.query = nn.Linear(config.hidden_size, self.all_head_size,bias=False) # 768x768\n",
    "        self.key = nn.Linear(ctx_dim, self.all_head_size,bias=False) # 768x768\n",
    "        self.value = nn.Linear(ctx_dim, self.all_head_size, bias=False) # 768x768\n",
    "        \n",
    "        attn_span = adapt_span_params['attn_span']\n",
    "        \n",
    "        self.k_pe = nn.Parameter(\n",
    "            torch.randn(1, config.hidden_size // self.num_attention_heads, attn_span))\n",
    "\n",
    "        self.dropout = nn.Dropout(config.attention_probs_dropout_prob)\n",
    "        \n",
    "        self.adapt_span_enabled = adapt_span_params['adapt_span_enabled']\n",
    "        \n",
    "        if self.adapt_span_enabled:\n",
    "            self.adaptive_span = AdaptiveSpan(**adapt_span_params)\n",
    "        \n",
    "\n",
    "    def transpose_for_scores(self, x):\n",
    "        new_x_shape = x.size()[:-1] + (self.num_attention_heads, self.attention_head_size)\n",
    "        x = x.view(*new_x_shape)\n",
    "        return x.permute(0, 2, 1, 3)\n",
    "\n",
    "    def forward(self, hidden_states, context, attention_mask=None):\n",
    "        \n",
    "        q = self.query(hidden_states)                                       #[bs, 36, 768]\n",
    "        k = self.key(context)                                               #[bs, 20, 768]\n",
    "        v = self.key(context)                                               #[bs, 20, 768]\n",
    "\n",
    "        \n",
    "        if self.adapt_span_enabled:\n",
    "            k, v, k_pe = self.adaptive_span.trim_memory(q,k,v,self.k_pe) #[bs, 68, 768],[bs, 68, 768],[1, 64, 32]\n",
    "\n",
    "\n",
    "        q = self.transpose_for_scores(q)                                # [bs, 12, 36, 64]\n",
    "        k = self.transpose_for_scores(k)                                # [bs, 12, 68, 64]\n",
    "        v = self.transpose_for_scores(v)                                # [bs, 12, 68, 64]\n",
    "\n",
    "        attention_cont = torch.matmul(q, k.transpose(-1, -2))           # [bs, 12, 36, 68]\n",
    "        \n",
    "        d0,d1,d2,d3 = attention_cont.size()\n",
    "        attention_cont = torch.reshape(attention_cont, (d0*d1,d2,d3))   #[bs*d1, 36, 68]\n",
    "        attention_cont = _unskew(attention_cont)                        #[bs*d1, 36, 32]\n",
    "        attention_cont = torch.reshape(attention_cont, (d0,d1,d2,-1))\n",
    "    \n",
    "        attention_pos = torch.matmul(q, k_pe)                           #[128, 12, 36, 32]\n",
    "        \n",
    "        attention_scores = attention_cont+attention_pos                 #[128, 12, 36, 32]\n",
    "        attention_scores = attention_scores/math.sqrt(self.attention_head_size)\n",
    "        \n",
    "        if attention_mask is not None:\n",
    "            attention_scores = attention_scores + attention_mask\n",
    "            \n",
    "        \n",
    "        attention_probs = nn.Softmax(dim=-1)(attention_scores)         \n",
    "        attention_probs = adaptive_span(attention_probs)               # [128, 12, 36, 32]\n",
    "\n",
    "        attention_probs = self.dropout(attention_probs)\n",
    "        attention_probs = torch.reshape(attention_probs, (d0*d1,d2,-1))#[bs*d1,36,32]\n",
    "        attention_probs = _skew(attention_probs,0)                     #[bs*d1,36,68]\n",
    "        attention_probs = torch.reshape(attention_probs,(d0,d1,d2,-1)) #[bs,d1,36,68]\n",
    "        \n",
    "        ctx_layer = torch.matmul(attention_probs, v)                   #[bs,12, 36, 64]\n",
    "        ctx_layer = ctx_layer.permute(0, 2, 1, 3).contiguous()         #[bs,36,12,64]\n",
    "        new_ctx_layer_shape = ctx_layer.size()[:-2] + (all_head_size,) #[bs,d1,768]\n",
    "        ctx_layer = ctx_layer.view(*new_ctx_layer_shape)\n",
    "        \n",
    "        return ctx_layer\n",
    "    \n",
    "    def get_cache_size(self):\n",
    "        if self.adapt_span_enabled:\n",
    "            return self.adaptive_span.get_cache_size()\n",
    "        else:\n",
    "            return self.attn_span"
   ]
  },
  {
   "cell_type": "code",
   "execution_count": 39,
   "metadata": {},
   "outputs": [
    {
     "data": {
      "text/plain": [
       "(torch.Size([128, 36, 768]), 32)"
      ]
     },
     "execution_count": 39,
     "metadata": {},
     "output_type": "execute_result"
    }
   ],
   "source": [
    "from transformers import BertConfig\n",
    "bert_att = BertAttention(BertConfig(),adapt_span_params=adapt_span_params)\n",
    "#context_output = bert_att(hidden_states = torch.rand(128,20,768),\n",
    "#                          context = torch.rand(128,36,768),\n",
    "#                          attention_mask = None)\n",
    "\n",
    "context_output = bert_att(hidden_states = torch.rand(128,36,768),\n",
    "                          context = torch.rand(128,20,768),\n",
    "                          attention_mask = torch.rand(128,1,1,32))\n",
    "\n",
    "context_output.shape, bert_att.get_cache_size()"
   ]
  },
  {
   "cell_type": "code",
   "execution_count": 40,
   "metadata": {},
   "outputs": [
    {
     "data": {
      "text/plain": [
       "torch.Size([128, 20, 768])"
      ]
     },
     "execution_count": 40,
     "metadata": {},
     "output_type": "execute_result"
    }
   ],
   "source": [
    "## BertAttOutput\n",
    "\n",
    "class BertAttOutput(nn.Module):\n",
    "    \"\"\"\n",
    "    from transformers import BertConfig\n",
    "    bert_att_output = BertAttOutput(BertConfig())\n",
    "    output = bert_att_output(torch.rand(128,20,768),torch.rand(128,20,768))\n",
    "    output.shape [128,20,768]\n",
    "\n",
    "    \"\"\"\n",
    "    def __init__(self, config):\n",
    "        super(BertAttOutput, self).__init__()\n",
    "        self.dense = nn.Linear(config.hidden_size, config.hidden_size)\n",
    "        self.LayerNorm = BertLayerNorm(config.hidden_size, eps=1e-12)\n",
    "        self.dropout = nn.Dropout(config.hidden_dropout_prob)\n",
    "\n",
    "    def forward(self, hidden_states, input_tensor):\n",
    "        hidden_states = self.dense(hidden_states)\n",
    "        hidden_states = self.dropout(hidden_states)\n",
    "        hidden_states = self.LayerNorm(hidden_states + input_tensor)\n",
    "        return hidden_states\n",
    "\n",
    "from transformers import BertConfig\n",
    "bert_att_output = BertAttOutput(BertConfig())\n",
    "output = bert_att_output(torch.rand(128,20,768),torch.rand(128,20,768))\n",
    "output.shape"
   ]
  },
  {
   "cell_type": "code",
   "execution_count": 41,
   "metadata": {},
   "outputs": [
    {
     "data": {
      "text/plain": [
       "torch.Size([128, 36, 768])"
      ]
     },
     "execution_count": 41,
     "metadata": {},
     "output_type": "execute_result"
    }
   ],
   "source": [
    "## BertCross Attention\n",
    "class BertCrossattLayer(nn.Module):\n",
    "    \"\"\"\n",
    "    from transformers import BertConfig\n",
    "    \n",
    "    bert_cross_att = BertCrossattLayer(BertConfig())\n",
    "    output = bert_cross_att(input_tensor = torch.rand(128,20,768), \n",
    "                        ctx_tensor = torch.rand(128,36,768), \n",
    "                        ctx_att_mask = None)\n",
    "                        \n",
    "    output.shape [128,20,768]\n",
    "    \"\"\"\n",
    "    def __init__(self, config,adapt_span_params):\n",
    "        super().__init__()\n",
    "        self.att = BertAttention(config,adapt_span_params=adapt_span_params)\n",
    "        self.output = BertAttOutput(config)\n",
    "\n",
    "    def forward(self, input_tensor, ctx_tensor, ctx_att_mask=None):\n",
    "        output = self.att(input_tensor, ctx_tensor, ctx_att_mask) # [128,20,768]\n",
    "        attention_output = self.output(output, input_tensor)\n",
    "        return attention_output\n",
    "    \n",
    "from transformers import BertConfig\n",
    "bert_cross_att = BertCrossattLayer(BertConfig(),adapt_span_params=adapt_span_params)\n",
    "output1 = bert_cross_att(input_tensor = torch.rand(128,20,768), \n",
    "                        ctx_tensor = torch.rand(128,36,768), \n",
    "                        ctx_att_mask = None)\n",
    "\n",
    "output2 = bert_cross_att(input_tensor = torch.rand(128,36,768),\n",
    "                        ctx_tensor = torch.rand(128,20,768),\n",
    "                        ctx_att_mask = torch.rand(128,1,1,32))\n",
    "# output1.shape\n",
    "output2.shape"
   ]
  },
  {
   "cell_type": "code",
   "execution_count": 45,
   "metadata": {},
   "outputs": [
    {
     "data": {
      "text/plain": [
       "torch.Size([128, 20, 768])"
      ]
     },
     "execution_count": 45,
     "metadata": {},
     "output_type": "execute_result"
    }
   ],
   "source": [
    "## BertSelfattLayer\n",
    "\n",
    "class BertSelfattLayer(nn.Module):\n",
    "    \"\"\"\n",
    "    bert_self_att_layer = BertSelfattLayer(bert_config)\n",
    "    output = bert_self_att_layer(input_tensor = torch.rand(128,20,768),\n",
    "                             attention_mask = torch.rand(128,1,1,20))\n",
    "    output.shape [128, 20, 768]\n",
    "    \"\"\"\n",
    "    def __init__(self, config, adapt_span_params=adapt_span_params):\n",
    "        super(BertSelfattLayer, self).__init__()\n",
    "        self.self = BertAttention(config, adapt_span_params=adapt_span_params)\n",
    "        self.output = BertAttOutput(config)\n",
    "\n",
    "    def forward(self, input_tensor, attention_mask):\n",
    "        # Self attention attends to itself, thus keys and querys are the same (input_tensor).\n",
    "        self_output = self.self(input_tensor, input_tensor, attention_mask)\n",
    "        attention_output = self.output(self_output, input_tensor)\n",
    "        return attention_output\n",
    "    \n",
    "bert_self_att_layer = BertSelfattLayer(bert_config, adapt_span_params = adapt_span_params)\n",
    "output = bert_self_att_layer(input_tensor = torch.rand(128,20,768),\n",
    "                             attention_mask = torch.rand(128,1,1,32))\n",
    "output.shape"
   ]
  },
  {
   "cell_type": "code",
   "execution_count": 46,
   "metadata": {},
   "outputs": [
    {
     "data": {
      "text/plain": [
       "torch.Size([128, 20, 3072])"
      ]
     },
     "execution_count": 46,
     "metadata": {},
     "output_type": "execute_result"
    }
   ],
   "source": [
    "## BertIntermediate\n",
    "\n",
    "class BertIntermediate(nn.Module):\n",
    "    \"\"\"\n",
    "    bert_intermediate = BertIntermediate(bert_config)\n",
    "    output = bert_intermediate(torch.rand(128,20,768))\n",
    "    output.shape # [128,20,3072]\n",
    "\n",
    "    \"\"\"\n",
    "    def __init__(self, config):\n",
    "        super(BertIntermediate, self).__init__()\n",
    "        self.dense = nn.Linear(config.hidden_size, config.intermediate_size)\n",
    "        if isinstance(config.hidden_act, str) or (sys.version_info[0] == 2 and isinstance(config.hidden_act, unicode)):\n",
    "            self.intermediate_act_fn = GeLU()\n",
    "        else:\n",
    "            self.intermediate_act_fn = config.hidden_act\n",
    "\n",
    "    def forward(self, hidden_states):\n",
    "        hidden_states = self.dense(hidden_states)\n",
    "        hidden_states = self.intermediate_act_fn(hidden_states)\n",
    "        return hidden_states\n",
    "\n",
    "bert_intermediate = BertIntermediate(bert_config)\n",
    "output = bert_intermediate(torch.rand(128,20,768))\n",
    "output.shape"
   ]
  },
  {
   "cell_type": "code",
   "execution_count": 47,
   "metadata": {},
   "outputs": [
    {
     "data": {
      "text/plain": [
       "torch.Size([128, 20, 768])"
      ]
     },
     "execution_count": 47,
     "metadata": {},
     "output_type": "execute_result"
    }
   ],
   "source": [
    "## BertOutput\n",
    "\n",
    "class BertOutput(nn.Module):\n",
    "    \"\"\"\n",
    "    bert_output = BertOutput(bert_config)\n",
    "    output = bert_output(hidden_states = torch.rand(128,20,3072),\n",
    "                         input_tensor = torch.rand(128,20,768))\n",
    "    output.shape # [128,20,768]\n",
    "\n",
    "    \"\"\"\n",
    "    def __init__(self, config):\n",
    "        super(BertOutput, self).__init__()\n",
    "        self.dense = nn.Linear(config.intermediate_size, config.hidden_size) # [3072x768]\n",
    "        self.LayerNorm = BertLayerNorm(config.hidden_size, eps=1e-12)\n",
    "        self.dropout = nn.Dropout(config.hidden_dropout_prob)\n",
    "\n",
    "    def forward(self, hidden_states, input_tensor):\n",
    "        hidden_states = self.dense(hidden_states)\n",
    "        hidden_states = self.dropout(hidden_states)\n",
    "        hidden_states = self.LayerNorm(hidden_states + input_tensor)\n",
    "        return hidden_states\n",
    "\n",
    "bert_output = BertOutput(bert_config)\n",
    "output = bert_output(hidden_states = torch.rand(128,20,3072),\n",
    "                         input_tensor = torch.rand(128,20,768))\n",
    "output.shape"
   ]
  },
  {
   "cell_type": "code",
   "execution_count": 48,
   "metadata": {},
   "outputs": [
    {
     "data": {
      "text/plain": [
       "torch.Size([128, 20, 768])"
      ]
     },
     "execution_count": 48,
     "metadata": {},
     "output_type": "execute_result"
    }
   ],
   "source": [
    "## BertLayer\n",
    "\n",
    "class BertLayer(nn.Module):\n",
    "    \"\"\"\n",
    "    from transformers import BertConfig\n",
    "    bert_layer  = BertLayer(BertConfig())\n",
    "    output = bert_layer(torch.rand(128,20,768),torch.rand(128,1,1,20))\n",
    "    output.shape [128,20,768]\n",
    "    \"\"\"\n",
    "    def __init__(self, config, adapt_span_params=adapt_span_params):\n",
    "        super(BertLayer, self).__init__()\n",
    "        self.attention = BertSelfattLayer(config,adapt_span_params=adapt_span_params)\n",
    "        self.intermediate = BertIntermediate(config)\n",
    "        self.output = BertOutput(config)\n",
    "\n",
    "    def forward(self, hidden_states, attention_mask):\n",
    "        attention_output = self.attention(hidden_states, attention_mask) # [128, 20, 768]\n",
    "        intermediate_output = self.intermediate(attention_output)\n",
    "        # [128,20,3072], [128,20,768]\n",
    "        layer_output = self.output(intermediate_output, attention_output) # [128,20,768]\n",
    "        return layer_output\n",
    "    \n",
    "from transformers import BertConfig\n",
    "bert_layer  = BertLayer(BertConfig(), adapt_span_params=adapt_span_params)\n",
    "output = bert_layer(hidden_states = torch.rand(128,20,768),\n",
    "                    attention_mask = torch.rand(128,1,1,32))\n",
    "output.shape"
   ]
  },
  {
   "cell_type": "code",
   "execution_count": 49,
   "metadata": {},
   "outputs": [],
   "source": [
    "class LXRTXLayer(nn.Module):\n",
    "    \"\"\"\n",
    "    from transformers import BertConfig\n",
    "    lxrtx_layer = LXRTXLayer(BertConfig())\n",
    "    output = lxrtx_layer(lang_feats = torch.rand(128,20,768),\n",
    "                      lang_attention_mask = torch.rand(128,1,1,20),\n",
    "                      visn_feats = torch.rand(128,36,768),\n",
    "                      visn_attention_mask = None)\n",
    "\n",
    "    lang_output.shape: [128,20,768]\n",
    "    visn_output.shape: [128,36,768]\n",
    "    \n",
    "    \"\"\"\n",
    "    def __init__(self, config,adapt_span_params):\n",
    "        super().__init__()\n",
    "        # The cross-attention Layer\n",
    "        self.visual_attention = BertCrossattLayer(config,adapt_span_params=adapt_span_params)\n",
    "\n",
    "        # Self-attention Layers\n",
    "        self.lang_self_att = BertSelfattLayer(config,adapt_span_params=adapt_span_params)\n",
    "        self.visn_self_att = BertSelfattLayer(config,adapt_span_params=adapt_span_params)\n",
    "\n",
    "        # Intermediate and Output Layers (FFNs)\n",
    "        self.lang_inter = BertIntermediate(config)\n",
    "        self.lang_output = BertOutput(config)\n",
    "        self.visn_inter = BertIntermediate(config)\n",
    "        self.visn_output = BertOutput(config)\n",
    "\n",
    "    def cross_att(self, lang_input, lang_attention_mask, visn_input, visn_attention_mask):\n",
    "        # Cross Attention\n",
    "        lang_att_output = self.visual_attention(lang_input, visn_input, ctx_att_mask=visn_attention_mask)\n",
    "        visn_att_output = self.visual_attention(visn_input, lang_input, ctx_att_mask=lang_attention_mask)\n",
    "        return lang_att_output, visn_att_output\n",
    "\n",
    "    def self_att(self, lang_input, lang_attention_mask, visn_input, visn_attention_mask):\n",
    "        # Self Attention\n",
    "        lang_att_output = self.lang_self_att(lang_input, lang_attention_mask)\n",
    "        visn_att_output = self.visn_self_att(visn_input, visn_attention_mask)\n",
    "        return lang_att_output, visn_att_output\n",
    "\n",
    "    def output_fc(self, lang_input, visn_input):\n",
    "        # FC layers\n",
    "        lang_inter_output = self.lang_inter(lang_input)\n",
    "        visn_inter_output = self.visn_inter(visn_input)\n",
    "\n",
    "        # Layer output\n",
    "        lang_output = self.lang_output(lang_inter_output, lang_input)\n",
    "        visn_output = self.visn_output(visn_inter_output, visn_input)\n",
    "        return lang_output, visn_output\n",
    "\n",
    "    def forward(self, lang_feats, lang_attention_mask,\n",
    "                      visn_feats, visn_attention_mask):\n",
    "        lang_att_output = lang_feats\n",
    "        visn_att_output = visn_feats\n",
    "\n",
    "        lang_att_output, visn_att_output = self.cross_att(lang_att_output, lang_attention_mask,\n",
    "                                                          visn_att_output, visn_attention_mask)\n",
    "        \n",
    "        lang_att_output, visn_att_output = self.self_att(lang_att_output, lang_attention_mask,\n",
    "                                                         visn_att_output, visn_attention_mask)\n",
    "        lang_output, visn_output = self.output_fc(lang_att_output, visn_att_output)\n",
    "\n",
    "        return lang_output, visn_output"
   ]
  },
  {
   "cell_type": "code",
   "execution_count": 50,
   "metadata": {},
   "outputs": [
    {
     "data": {
      "text/plain": [
       "(torch.Size([128, 20, 768]), torch.Size([128, 36, 768]))"
      ]
     },
     "execution_count": 50,
     "metadata": {},
     "output_type": "execute_result"
    }
   ],
   "source": [
    "from transformers import BertConfig\n",
    "lxrtx_layer = LXRTXLayer(BertConfig(),adapt_span_params=adapt_span_params)\n",
    "output = lxrtx_layer(lang_feats = torch.rand(128,20,768),\n",
    "                      lang_attention_mask = torch.rand(128,1,1,32),\n",
    "                      visn_feats = torch.rand(128,36,768),\n",
    "                      visn_attention_mask = None)\n",
    "output[0].shape, output[1].shape"
   ]
  },
  {
   "cell_type": "code",
   "execution_count": 51,
   "metadata": {},
   "outputs": [],
   "source": [
    "class VisualFeatEncoder(nn.Module):\n",
    "    \"\"\"\n",
    "\n",
    "    from transformers import BertConfig\n",
    "    \n",
    "    visual_feat_encoder = VisualFeatEncoder(BertConfig())\n",
    "    output = visual_feat_encoder((torch.rand(128,36,2048),torch.rand(128,36,4))) img_feats+box_feats\n",
    "    \n",
    "    output.shape: [128,36,768]\n",
    "    \"\"\"\n",
    "    def __init__(self, config):\n",
    "        super().__init__()\n",
    "        feat_dim = VISUAL_CONFIG.visual_feat_dim\n",
    "        pos_dim = VISUAL_CONFIG.visual_pos_dim\n",
    "\n",
    "        # Object feature encoding\n",
    "        self.visn_fc = nn.Linear(feat_dim, config.hidden_size)\n",
    "        self.visn_layer_norm = BertLayerNorm(config.hidden_size, eps=1e-12)\n",
    "\n",
    "        # Box position encoding\n",
    "        self.box_fc = nn.Linear(pos_dim, config.hidden_size)\n",
    "        self.box_layer_norm = BertLayerNorm(config.hidden_size, eps=1e-12)\n",
    "\n",
    "        self.dropout = nn.Dropout(config.hidden_dropout_prob)\n",
    "\n",
    "    def forward(self, visn_input):\n",
    "        feats, boxes = visn_input\n",
    "\n",
    "        x = self.visn_fc(feats)\n",
    "        x = self.visn_layer_norm(x)\n",
    "        y = self.box_fc(boxes)\n",
    "        y = self.box_layer_norm(y)\n",
    "        output = (x + y) / 2\n",
    "\n",
    "        output = self.dropout(output)\n",
    "        return output"
   ]
  },
  {
   "cell_type": "code",
   "execution_count": 52,
   "metadata": {},
   "outputs": [
    {
     "data": {
      "text/plain": [
       "torch.Size([128, 36, 768])"
      ]
     },
     "execution_count": 52,
     "metadata": {},
     "output_type": "execute_result"
    }
   ],
   "source": [
    "from transformers import BertConfig\n",
    "visual_feat_encoder = VisualFeatEncoder(BertConfig())\n",
    "output = visual_feat_encoder((torch.rand(128,36,2048),torch.rand(128,36,4)))\n",
    "output.shape"
   ]
  },
  {
   "cell_type": "code",
   "execution_count": 53,
   "metadata": {},
   "outputs": [],
   "source": [
    "class LXRTEncoder(nn.Module):\n",
    "    \"\"\"\n",
    "    from transformers import BertConfig\n",
    "    lxrt_encoder = LXRTEncoder(BertConfig())\n",
    "\n",
    "    output = lxrt_encoder(lang_feats = torch.rand(128,20,768),\n",
    "                      lang_attention_mask = torch.rand(128,1,1,20),\n",
    "                      visn_feats = (torch.rand(128,36,2048),torch.rand(128,36,4)),\n",
    "                      visn_attention_mask = None)\n",
    "\n",
    "    lang_feats.shape: [128,20,768]\n",
    "    visn_feats.shape: [128,36,768]\n",
    "\n",
    "    \"\"\"\n",
    "    def __init__(self, config, adapt_span_params):\n",
    "        super().__init__()\n",
    "\n",
    "        # Obj-level image embedding layer\n",
    "        self.visn_fc = VisualFeatEncoder(config)\n",
    "\n",
    "        # Number of layers\n",
    "        self.num_l_layers = VISUAL_CONFIG.l_layers\n",
    "        self.num_x_layers = VISUAL_CONFIG.x_layers\n",
    "        self.num_r_layers = VISUAL_CONFIG.r_layers\n",
    "        print(\"LXRT encoder with %d l_layers, %d x_layers, and %d r_layers.\" %\n",
    "              (self.num_l_layers, self.num_x_layers, self.num_r_layers))\n",
    "\n",
    "        # Layers\n",
    "        # Using self.layer instead of self.l_layer to support loading BERT weights.\n",
    "        self.layer = nn.ModuleList(\n",
    "            [BertLayer(config,adapt_span_params=adapt_span_params) for _ in range(self.num_l_layers)]\n",
    "        )\n",
    "        self.x_layers = nn.ModuleList(\n",
    "            [LXRTXLayer(config,adapt_span_params=adapt_span_params) for _ in range(self.num_x_layers)]\n",
    "        )\n",
    "        self.r_layers = nn.ModuleList(\n",
    "            [BertLayer(config,adapt_span_params=adapt_span_params) for _ in range(self.num_r_layers)]\n",
    "        )\n",
    "\n",
    "    def forward(self, lang_feats, lang_attention_mask,\n",
    "                visn_feats, visn_attention_mask=None):\n",
    "        # Run visual embedding layer\n",
    "        # Note: Word embedding layer was executed outside this module.\n",
    "        #       Keep this design to allow loading BERT weights.\n",
    "        visn_feats = self.visn_fc(visn_feats)\n",
    "        #print('visn_feats_from_visn_fc', visn_feats.shape) : [128, 36, 768]\n",
    "\n",
    "        # Run language layers\n",
    "        for layer_module in self.layer:\n",
    "            lang_feats = layer_module(lang_feats, lang_attention_mask)\n",
    "\n",
    "        # Run relational layers\n",
    "        for layer_module in self.r_layers:\n",
    "            visn_feats = layer_module(visn_feats, visn_attention_mask)\n",
    "\n",
    "        # Run cross-modality layers\n",
    "        for layer_module in self.x_layers:\n",
    "            lang_feats, visn_feats = layer_module(lang_feats, lang_attention_mask,\n",
    "                                                  visn_feats, visn_attention_mask)\n",
    "\n",
    "        return lang_feats, visn_feats"
   ]
  },
  {
   "cell_type": "code",
   "execution_count": 54,
   "metadata": {},
   "outputs": [
    {
     "name": "stdout",
     "output_type": "stream",
     "text": [
      "LXRT encoder with 12 l_layers, 5 x_layers, and 0 r_layers.\n"
     ]
    },
    {
     "data": {
      "text/plain": [
       "(torch.Size([128, 20, 768]), torch.Size([128, 36, 768]))"
      ]
     },
     "execution_count": 54,
     "metadata": {},
     "output_type": "execute_result"
    }
   ],
   "source": [
    "from transformers import BertConfig\n",
    "lxrt_encoder = LXRTEncoder(BertConfig(),adapt_span_params)\n",
    "\n",
    "output = lxrt_encoder(lang_feats = torch.rand(128,20,768),\n",
    "                      lang_attention_mask = torch.rand(128,1,1,32),\n",
    "                      visn_feats = (torch.rand(128,36,2048),torch.rand(128,36,4)),\n",
    "                      visn_attention_mask = None)\n",
    "\n",
    "output[0].shape,output[1].shape"
   ]
  },
  {
   "cell_type": "code",
   "execution_count": 55,
   "metadata": {},
   "outputs": [],
   "source": [
    "class BertPooler(nn.Module):\n",
    "    def __init__(self, config):\n",
    "        super(BertPooler, self).__init__()\n",
    "        self.dense = nn.Linear(config.hidden_size, config.hidden_size)\n",
    "        self.activation = nn.Tanh()\n",
    "\n",
    "    def forward(self, hidden_states):\n",
    "        # We \"pool\" the model by simply taking the hidden state corresponding\n",
    "        # to the first token.\n",
    "        first_token_tensor = hidden_states[:, 0]\n",
    "        pooled_output = self.dense(first_token_tensor)\n",
    "        pooled_output = self.activation(pooled_output)\n",
    "        return pooled_output"
   ]
  },
  {
   "cell_type": "code",
   "execution_count": 56,
   "metadata": {},
   "outputs": [],
   "source": [
    "class LXRTModel(BertPreTrainedModel):\n",
    "    \"\"\"\n",
    "    LXRT Model.\n",
    "    \n",
    "    model = LXRTModel.from_pretrained(\"bert-base-uncased\")\n",
    "    \n",
    "    output = model(input_ids = torch.rand(128,20).long(), \n",
    "               token_type_ids = torch.rand(128,20).long(),\n",
    "               attention_mask = torch.rand(128,32).long(),\n",
    "               visual_feats = (torch.rand(128,36,2048),torch.rand(128,36,4)),\n",
    "               visual_attention_mask = None)\n",
    "    \n",
    "    \n",
    "    lang_feats.shape -> [128, 20, 768]\n",
    "    vision_feats.shape -> [128, 36, 768]\n",
    "    pooled_output.shape -> [128,768]\n",
    "    \n",
    "    \"\"\"\n",
    "\n",
    "    def __init__(self, config, adapt_span_params):\n",
    "        super().__init__(config)\n",
    "        self.embeddings = BertEmbeddings(config)\n",
    "        self.encoder = LXRTEncoder(config,adapt_span_params)\n",
    "        self.pooler = BertPooler(config)\n",
    "        self.apply(self.init_bert_weights)\n",
    "\n",
    "    def forward(self, input_ids, token_type_ids=None, attention_mask=None,\n",
    "                visual_feats=None, visual_attention_mask=None):\n",
    "        if attention_mask is None:\n",
    "            attention_mask = torch.ones_like(input_ids)\n",
    "        if token_type_ids is None:\n",
    "            token_type_ids = torch.zeros_like(input_ids)\n",
    "\n",
    "        # We create a 3D attention mask from a 2D tensor mask.\n",
    "        # Sizes are [batch_size, 1, 1, to_seq_length]\n",
    "        # So we can broadcast to [batch_size, num_heads, from_seq_length, to_seq_length]\n",
    "        # this attention mask is more simple than the triangular masking of causal attention\n",
    "        # used in OpenAI GPT, we just need to prepare the broadcast dimension here.\n",
    "        \n",
    "        #print('Attention Mask', attention_mask.shape) : [128, 20]\n",
    "        extended_attention_mask = attention_mask.unsqueeze(1).unsqueeze(2)\n",
    "        \n",
    "        # print('Extended Attention Mask', extended_attention_mask.shape): [128, 1, 1, 20]\n",
    "        \n",
    "        # Since attention_mask is 1.0 for positions we want to attend and 0.0 for\n",
    "        # masked positions, this operation will create a tensor which is 0.0 for\n",
    "        # positions we want to attend and -10000.0 for masked positions.\n",
    "        # Since we are adding it to the raw scores before the softmax, this is\n",
    "        # effectively the same as removing these entirely.\n",
    "        \n",
    "        extended_attention_mask = extended_attention_mask.to(dtype=next(self.parameters()).dtype) # fp16 compatibility\n",
    "        extended_attention_mask = (1.0 - extended_attention_mask) * -10000.0\n",
    "        \n",
    "        # print('Extended Attention Mask 1k', extended_attention_mask.shape): [128, 1, 1, 20]\n",
    "        \n",
    "        # Process the visual attention mask\n",
    "        if visual_attention_mask is not None:\n",
    "            extended_visual_attention_mask = visual_attention_mask.unsqueeze(1).unsqueeze(2)\n",
    "            extended_visual_attention_mask = extended_visual_attention_mask.to(dtype=next(self.parameters()).dtype) # fp16 compatibility\n",
    "            extended_visual_attention_mask = (1.0 - extended_visual_attention_mask) * -10000.0\n",
    "        else:\n",
    "            extended_visual_attention_mask = None\n",
    "        \n",
    "        # print('Extended Visual Attention Mask', extended_visual_attention_mask.shape) Shape: None\n",
    "        \n",
    "        # Positional Word Embeddings\n",
    "        embedding_output = self.embeddings(input_ids, token_type_ids)\n",
    "        \n",
    "        # print('Embedding Output', embedding_output.shape): [128,20,768]\n",
    "        \n",
    "        # Run LXRT backbone\n",
    "        \n",
    "        \n",
    "        lang_feats, visn_feats = self.encoder(\n",
    "            embedding_output,\n",
    "            extended_attention_mask,\n",
    "            visn_feats=visual_feats,\n",
    "            visn_attention_mask=extended_visual_attention_mask)\n",
    "        \n",
    "        pooled_output = self.pooler(lang_feats)\n",
    "\n",
    "        return (lang_feats, visn_feats), pooled_output"
   ]
  },
  {
   "cell_type": "code",
   "execution_count": 57,
   "metadata": {},
   "outputs": [
    {
     "name": "stderr",
     "output_type": "stream",
     "text": [
      "I0116 05:42:49.831708 140429596633984 modeling.py:760] loading archive file https://s3.amazonaws.com/models.huggingface.co/bert/bert-base-uncased.tar.gz from cache at /home/u37216/.pytorch_pretrained_bert/9c41111e2de84547a463fd39217199738d1e3deb72d4fec4399e6e241983c6f0.ae3cef932725ca7a30cdcb93fc6e09150a55e2a130ec7af63975a16c153ae2ba\n",
      "I0116 05:42:49.838838 140429596633984 modeling.py:768] extracting archive file /home/u37216/.pytorch_pretrained_bert/9c41111e2de84547a463fd39217199738d1e3deb72d4fec4399e6e241983c6f0.ae3cef932725ca7a30cdcb93fc6e09150a55e2a130ec7af63975a16c153ae2ba to temp dir /home/u37216/tmp/tmpm0vmuio8\n",
      "I0116 05:42:57.528609 140429596633984 modeling.py:775] Model config {\n",
      "  \"attention_probs_dropout_prob\": 0.1,\n",
      "  \"hidden_act\": \"gelu\",\n",
      "  \"hidden_dropout_prob\": 0.1,\n",
      "  \"hidden_size\": 768,\n",
      "  \"initializer_range\": 0.02,\n",
      "  \"intermediate_size\": 3072,\n",
      "  \"max_position_embeddings\": 512,\n",
      "  \"num_attention_heads\": 12,\n",
      "  \"num_hidden_layers\": 12,\n",
      "  \"type_vocab_size\": 2,\n",
      "  \"vocab_size\": 30522\n",
      "}\n",
      "\n"
     ]
    },
    {
     "name": "stdout",
     "output_type": "stream",
     "text": [
      "LXRT encoder with 12 l_layers, 5 x_layers, and 0 r_layers.\n"
     ]
    },
    {
     "data": {
      "text/plain": [
       "(torch.Size([128, 20, 768]),\n",
       " torch.Size([128, 36, 768]),\n",
       " torch.Size([128, 768]))"
      ]
     },
     "execution_count": 57,
     "metadata": {},
     "output_type": "execute_result"
    }
   ],
   "source": [
    "model = LXRTModel.from_pretrained(\"bert-base-uncased\",adapt_span_params=adapt_span_params)\n",
    "output = model(input_ids = torch.rand(128,20).long(), \n",
    "               token_type_ids = torch.rand(128,20).long(),\n",
    "               attention_mask = torch.rand(128,32).long(),\n",
    "               visual_feats = (torch.rand(128,36,2048),torch.rand(128,36,4)),\n",
    "               visual_attention_mask = None)\n",
    "output[0][0].shape, output[0][1].shape, output[1].shape"
   ]
  },
  {
   "cell_type": "code",
   "execution_count": 58,
   "metadata": {},
   "outputs": [],
   "source": [
    "class VisualBertForLXRFeature(BertPreTrainedModel):\n",
    "    \"\"\"\n",
    "    BERT model for classification.\n",
    "    \n",
    "    bert = VisualBertForLXRFeature.from_pretrained(\"bert-base-uncased\",mode='x')\n",
    "    \n",
    "    output = bert(input_ids = torch.rand(128,20).long(), \n",
    "              token_type_ids = torch.rand(128,20).long(),\n",
    "              attention_mask = torch.rand(128,20).long(),\n",
    "              visual_feats = (torch.rand(128,36,2048),torch.rand(128,36,4)), # for feats and boxes\n",
    "              visual_attention_mask = None)\n",
    "              \n",
    "    output.shape -> [128,768]          ,\n",
    "    \"\"\"\n",
    "    def __init__(self, config, adapt_span_params, mode='lxr',):\n",
    "        \"\"\"\n",
    "        :param config:\n",
    "        :param mode:  Number of visual layers\n",
    "        \"\"\"\n",
    "        super().__init__(config)\n",
    "        self.bert = LXRTModel(config,adapt_span_params)\n",
    "        self.mode = mode\n",
    "        self.apply(self.init_bert_weights)\n",
    "\n",
    "    def forward(self, input_ids, token_type_ids=None, attention_mask=None, visual_feats=None,\n",
    "                visual_attention_mask=None):\n",
    "        feat_seq, pooled_output = self.bert(input_ids, token_type_ids, attention_mask,\n",
    "                                            visual_feats=visual_feats,\n",
    "                                            visual_attention_mask=visual_attention_mask)\n",
    "        if 'x' == self.mode:\n",
    "            return pooled_output\n",
    "        elif 'x' in self.mode and ('l' in self.mode or 'r' in self.mode):\n",
    "            return feat_seq, pooled_output\n",
    "        elif 'l' in self.mode or 'r' in self.mode:\n",
    "            return feat_seq"
   ]
  },
  {
   "cell_type": "code",
   "execution_count": 59,
   "metadata": {},
   "outputs": [
    {
     "name": "stderr",
     "output_type": "stream",
     "text": [
      "I0116 05:43:06.669036 140429596633984 modeling.py:760] loading archive file https://s3.amazonaws.com/models.huggingface.co/bert/bert-base-uncased.tar.gz from cache at /home/u37216/.pytorch_pretrained_bert/9c41111e2de84547a463fd39217199738d1e3deb72d4fec4399e6e241983c6f0.ae3cef932725ca7a30cdcb93fc6e09150a55e2a130ec7af63975a16c153ae2ba\n",
      "I0116 05:43:06.671636 140429596633984 modeling.py:768] extracting archive file /home/u37216/.pytorch_pretrained_bert/9c41111e2de84547a463fd39217199738d1e3deb72d4fec4399e6e241983c6f0.ae3cef932725ca7a30cdcb93fc6e09150a55e2a130ec7af63975a16c153ae2ba to temp dir /home/u37216/tmp/tmp53yeeg3_\n",
      "I0116 05:43:13.509237 140429596633984 modeling.py:775] Model config {\n",
      "  \"attention_probs_dropout_prob\": 0.1,\n",
      "  \"hidden_act\": \"gelu\",\n",
      "  \"hidden_dropout_prob\": 0.1,\n",
      "  \"hidden_size\": 768,\n",
      "  \"initializer_range\": 0.02,\n",
      "  \"intermediate_size\": 3072,\n",
      "  \"max_position_embeddings\": 512,\n",
      "  \"num_attention_heads\": 12,\n",
      "  \"num_hidden_layers\": 12,\n",
      "  \"type_vocab_size\": 2,\n",
      "  \"vocab_size\": 30522\n",
      "}\n",
      "\n"
     ]
    },
    {
     "name": "stdout",
     "output_type": "stream",
     "text": [
      "LXRT encoder with 12 l_layers, 5 x_layers, and 0 r_layers.\n"
     ]
    },
    {
     "data": {
      "text/plain": [
       "torch.Size([128, 768])"
      ]
     },
     "execution_count": 59,
     "metadata": {},
     "output_type": "execute_result"
    }
   ],
   "source": [
    "bert = VisualBertForLXRFeature.from_pretrained(\"bert-base-uncased\",adapt_span_params=adapt_span_params,mode='x')\n",
    "output = bert(input_ids = torch.rand(128,20).long(), \n",
    "              token_type_ids = torch.rand(128,20).long(),\n",
    "              attention_mask = torch.rand(128,32).long(),\n",
    "              visual_feats = (torch.rand(128,36,2048),torch.rand(128,36,4)),\n",
    "              visual_attention_mask = None)\n",
    "output.shape"
   ]
  },
  {
   "cell_type": "code",
   "execution_count": 60,
   "metadata": {},
   "outputs": [],
   "source": [
    "class LXRTEncoder_(nn.Module):\n",
    "    \"\"\"\n",
    "    Usage:\n",
    "        Input:\n",
    "            lxrt_encoder = LXRTEncoder(args,MAX_VQA_LENGTH=20).cuda()\n",
    "            feat = torch.rand(128,36,2048).cuda()\n",
    "            pos = torch.rand(128,36,4).cuda()\n",
    "            sent = list(sentences) # len(sent) = batch_size i.e 128\n",
    "        \n",
    "        Output:\n",
    "            output = lxrt_encoder(sent, (feat.cuda(), pos.cuda())) # [128,768]\n",
    "    \"\"\"\n",
    "    def __init__(self, args, max_seq_length, adapt_span_params, mode='x'):\n",
    "        super().__init__()\n",
    "        self.max_seq_length = max_seq_length\n",
    "        set_visual_config(args)\n",
    "\n",
    "        # Using the bert tokenizer\n",
    "        self.tokenizer = BertTokenizer.from_pretrained(\n",
    "            \"bert-base-uncased\",\n",
    "            do_lower_case=True\n",
    "        )\n",
    "\n",
    "        # Build LXRT Model\n",
    "        self.model = VisualBertForLXRFeature.from_pretrained(\n",
    "            \"bert-base-uncased\",\n",
    "            adapt_span_params=adapt_span_params,\n",
    "            mode=mode\n",
    "        )\n",
    "\n",
    "        if args.from_scratch:\n",
    "            print(\"initializing all the weights\")\n",
    "            self.model.apply(self.model.init_bert_weights)\n",
    "\n",
    "    def multi_gpu(self):\n",
    "        self.model = nn.DataParallel(self.model)\n",
    "\n",
    "    @property\n",
    "    def dim(self):\n",
    "        return 768\n",
    "\n",
    "    def forward(self, sents, feats, visual_attention_mask=None):\n",
    "        \n",
    "        train_features = convert_sents_to_features(\n",
    "            sents, self.max_seq_length, self.tokenizer)\n",
    "\n",
    "        input_ids = torch.tensor([f.input_ids for f in train_features], dtype=torch.long).to(device)\n",
    "        input_mask = torch.tensor([f.input_mask for f in train_features], dtype=torch.long).to(device)\n",
    "        segment_ids = torch.tensor([f.segment_ids for f in train_features], dtype=torch.long).to(device)\n",
    "        \n",
    "        #input_ids.shape, [128,20]\n",
    "        #input_mask.shape, [128,20]\n",
    "        #segment_ids.shape [128,20]\n",
    "        \n",
    "        output = self.model(input_ids, segment_ids, input_mask,\n",
    "                            visual_feats=feats,\n",
    "                            visual_attention_mask=visual_attention_mask)\n",
    "        return output\n",
    "\n",
    "    def save(self, path):\n",
    "        torch.save(self.model.state_dict(),\n",
    "                   os.path.join(\"%s_LXRT.pth\" % path))\n",
    "\n",
    "    def load(self, path):\n",
    "        # Load state_dict from snapshot file\n",
    "        print(\"Load LXMERT pre-trained model from %s\" % path)\n",
    "        state_dict = torch.load(\"%s_LXRT.pth\" % path)\n",
    "        new_state_dict = {}\n",
    "        for key, value in state_dict.items():\n",
    "            if key.startswith(\"module.\"):\n",
    "                new_state_dict[key[len(\"module.\"):]] = value\n",
    "            else:\n",
    "                new_state_dict[key] = value\n",
    "        state_dict = new_state_dict\n",
    "\n",
    "        # Print out the differences of pre-trained and model weights.\n",
    "        load_keys = set(state_dict.keys())\n",
    "        model_keys = set(self.model.state_dict().keys())\n",
    "        print()\n",
    "        print(\"Weights in loaded but not in model:\")\n",
    "        for key in sorted(load_keys.difference(model_keys)):\n",
    "            print(key)\n",
    "        print()\n",
    "        print(\"Weights in model but not in loaded:\")\n",
    "        for key in sorted(model_keys.difference(load_keys)):\n",
    "            print(key)\n",
    "        print()\n",
    "\n",
    "        # Load weights to model\n",
    "        self.model.load_state_dict(state_dict, strict=False)\n"
   ]
  },
  {
   "cell_type": "code",
   "execution_count": 61,
   "metadata": {},
   "outputs": [
    {
     "name": "stderr",
     "output_type": "stream",
     "text": [
      "I0116 05:43:25.063439 140429596633984 tokenization_utils.py:398] loading file https://s3.amazonaws.com/models.huggingface.co/bert/bert-base-uncased-vocab.txt from cache at /home/u37216/.cache/torch/transformers/26bc1ad6c0ac742e9b52263248f6d0f00068293b33709fae12320c0e35ccfbbb.542ce4285a40d23a559526243235df47c5f75c197f04f37d1a0c124c32c9a084\n",
      "I0116 05:43:25.566738 140429596633984 modeling.py:760] loading archive file https://s3.amazonaws.com/models.huggingface.co/bert/bert-base-uncased.tar.gz from cache at /home/u37216/.pytorch_pretrained_bert/9c41111e2de84547a463fd39217199738d1e3deb72d4fec4399e6e241983c6f0.ae3cef932725ca7a30cdcb93fc6e09150a55e2a130ec7af63975a16c153ae2ba\n",
      "I0116 05:43:25.569460 140429596633984 modeling.py:768] extracting archive file /home/u37216/.pytorch_pretrained_bert/9c41111e2de84547a463fd39217199738d1e3deb72d4fec4399e6e241983c6f0.ae3cef932725ca7a30cdcb93fc6e09150a55e2a130ec7af63975a16c153ae2ba to temp dir /home/u37216/tmp/tmp1rq4qwid\n",
      "I0116 05:43:30.966702 140429596633984 modeling.py:775] Model config {\n",
      "  \"attention_probs_dropout_prob\": 0.1,\n",
      "  \"hidden_act\": \"gelu\",\n",
      "  \"hidden_dropout_prob\": 0.1,\n",
      "  \"hidden_size\": 768,\n",
      "  \"initializer_range\": 0.02,\n",
      "  \"intermediate_size\": 3072,\n",
      "  \"max_position_embeddings\": 512,\n",
      "  \"num_attention_heads\": 12,\n",
      "  \"num_hidden_layers\": 12,\n",
      "  \"type_vocab_size\": 2,\n",
      "  \"vocab_size\": 30522\n",
      "}\n",
      "\n"
     ]
    },
    {
     "name": "stdout",
     "output_type": "stream",
     "text": [
      "LXRT encoder with 9 l_layers, 5 x_layers, and 5 r_layers.\n"
     ]
    },
    {
     "ename": "NameError",
     "evalue": "name 'sent' is not defined",
     "output_type": "error",
     "traceback": [
      "\u001b[0;31m---------------------------------------------------------------------------\u001b[0m",
      "\u001b[0;31mNameError\u001b[0m                                 Traceback (most recent call last)",
      "\u001b[0;32m<ipython-input-61-64cc4f390308>\u001b[0m in \u001b[0;36m<module>\u001b[0;34m()\u001b[0m\n\u001b[1;32m      1\u001b[0m \u001b[0mlxrt_encoder\u001b[0m \u001b[0;34m=\u001b[0m \u001b[0mLXRTEncoder_\u001b[0m\u001b[0;34m(\u001b[0m\u001b[0margs\u001b[0m\u001b[0;34m,\u001b[0m\u001b[0mMAX_VQA_LENGTH\u001b[0m\u001b[0;34m,\u001b[0m\u001b[0madapt_span_params\u001b[0m\u001b[0;34m)\u001b[0m\u001b[0;34m\u001b[0m\u001b[0m\n\u001b[0;32m----> 2\u001b[0;31m \u001b[0moutput\u001b[0m \u001b[0;34m=\u001b[0m \u001b[0mlxrt_encoder\u001b[0m\u001b[0;34m(\u001b[0m\u001b[0msent\u001b[0m\u001b[0;34m,\u001b[0m \u001b[0;34m(\u001b[0m\u001b[0mfeat\u001b[0m\u001b[0;34m.\u001b[0m\u001b[0mto\u001b[0m\u001b[0;34m(\u001b[0m\u001b[0mdevice\u001b[0m\u001b[0;34m)\u001b[0m\u001b[0;34m,\u001b[0m \u001b[0mpos\u001b[0m\u001b[0;34m.\u001b[0m\u001b[0mto\u001b[0m\u001b[0;34m(\u001b[0m\u001b[0mdevice\u001b[0m\u001b[0;34m)\u001b[0m\u001b[0;34m)\u001b[0m\u001b[0;34m)\u001b[0m\u001b[0;34m\u001b[0m\u001b[0m\n\u001b[0m\u001b[1;32m      3\u001b[0m \u001b[0moutput\u001b[0m\u001b[0;34m.\u001b[0m\u001b[0mshape\u001b[0m\u001b[0;34m\u001b[0m\u001b[0m\n",
      "\u001b[0;31mNameError\u001b[0m: name 'sent' is not defined"
     ]
    }
   ],
   "source": [
    "lxrt_encoder = LXRTEncoder_(args,MAX_VQA_LENGTH,adapt_span_params)\n",
    "output = lxrt_encoder(sent, (feat.to(device), pos.to(device)))\n",
    "output.shape"
   ]
  },
  {
   "cell_type": "code",
   "execution_count": null,
   "metadata": {},
   "outputs": [],
   "source": [
    "class VQAModel(nn.Module):\n",
    "    def __init__(self, num_answers,adapt_span_params):\n",
    "        super().__init__()\n",
    "        \n",
    "        # Build LXRT encoder\n",
    "        self.lxrt_encoder = LXRTEncoder_(\n",
    "            args,\n",
    "            max_seq_length=MAX_VQA_LENGTH,\n",
    "            adapt_span_params=adapt_span_params\n",
    "        )\n",
    "        hid_dim = self.lxrt_encoder.dim\n",
    "        \n",
    "        # VQA Answer heads\n",
    "        self.logit_fc = nn.Sequential(\n",
    "            nn.Linear(hid_dim, hid_dim * 2),\n",
    "            GeLU(),\n",
    "            BertLayerNorm(hid_dim * 2, eps=1e-12),\n",
    "            nn.Linear(hid_dim * 2, num_answers)\n",
    "        )\n",
    "        self.logit_fc.apply(self.lxrt_encoder.model.init_bert_weights)\n",
    "\n",
    "    def forward(self, feat, pos, sent):\n",
    "        \"\"\"\n",
    "        b -- batch_size, o -- object_number, f -- visual_feature_size\n",
    "        :param feat: (b, o, f) # [128, 36, 2048]\n",
    "        :param pos:  (b, o, 4) # [128, 36, 4]\n",
    "        :param sent: (b,) Type -- list of string # 128\n",
    "        :param leng: (b,) Type -- int numpy array # [128, 3129]\n",
    "        :return: (b, num_answer) The logit of each answers.\n",
    "        \"\"\"\n",
    "        x = self.lxrt_encoder(sent, (feat, pos))\n",
    "        logit = self.logit_fc(x)\n",
    "\n",
    "        return logit"
   ]
  },
  {
   "cell_type": "code",
   "execution_count": null,
   "metadata": {},
   "outputs": [],
   "source": [
    "model = VQAModel(3129, adapt_span_params).to(device)"
   ]
  },
  {
   "cell_type": "code",
   "execution_count": 100,
   "metadata": {},
   "outputs": [
    {
     "name": "stdout",
     "output_type": "stream",
     "text": [
      "tensor(0., grad_fn=<AddBackward0>)\n"
     ]
    }
   ],
   "source": [
    "l=0\n",
    "for i in model.encoder.layer:\n",
    "    l += i.attention.self.adaptive_span.get_loss()\n",
    "print(l)"
   ]
  },
  {
   "cell_type": "code",
   "execution_count": 101,
   "metadata": {},
   "outputs": [],
   "source": [
    "from models.lxrt_adaptive import VQAModel_Adaptive"
   ]
  },
  {
   "cell_type": "code",
   "execution_count": 104,
   "metadata": {},
   "outputs": [
    {
     "name": "stderr",
     "output_type": "stream",
     "text": [
      "I0116 06:21:44.480061 140429596633984 tokenization_utils.py:398] loading file https://s3.amazonaws.com/models.huggingface.co/bert/bert-base-uncased-vocab.txt from cache at /home/u37216/.cache/torch/transformers/26bc1ad6c0ac742e9b52263248f6d0f00068293b33709fae12320c0e35ccfbbb.542ce4285a40d23a559526243235df47c5f75c197f04f37d1a0c124c32c9a084\n",
      "I0116 06:21:44.844071 140429596633984 modeling.py:760] loading archive file https://s3.amazonaws.com/models.huggingface.co/bert/bert-base-uncased.tar.gz from cache at /home/u37216/.pytorch_pretrained_bert/9c41111e2de84547a463fd39217199738d1e3deb72d4fec4399e6e241983c6f0.ae3cef932725ca7a30cdcb93fc6e09150a55e2a130ec7af63975a16c153ae2ba\n",
      "I0116 06:21:44.847739 140429596633984 modeling.py:768] extracting archive file /home/u37216/.pytorch_pretrained_bert/9c41111e2de84547a463fd39217199738d1e3deb72d4fec4399e6e241983c6f0.ae3cef932725ca7a30cdcb93fc6e09150a55e2a130ec7af63975a16c153ae2ba to temp dir /home/u37216/tmp/tmptmu0p8yh\n",
      "I0116 06:21:51.660462 140429596633984 modeling.py:775] Model config {\n",
      "  \"attention_probs_dropout_prob\": 0.1,\n",
      "  \"hidden_act\": \"gelu\",\n",
      "  \"hidden_dropout_prob\": 0.1,\n",
      "  \"hidden_size\": 768,\n",
      "  \"initializer_range\": 0.02,\n",
      "  \"intermediate_size\": 3072,\n",
      "  \"max_position_embeddings\": 512,\n",
      "  \"num_attention_heads\": 12,\n",
      "  \"num_hidden_layers\": 12,\n",
      "  \"type_vocab_size\": 2,\n",
      "  \"vocab_size\": 30522\n",
      "}\n",
      "\n"
     ]
    },
    {
     "name": "stdout",
     "output_type": "stream",
     "text": [
      "LXRT encoder with 9 l_layers, 5 x_layers, and 5 r_layers.\n"
     ]
    }
   ],
   "source": [
    "model = VQAModel_Adaptive(3129, args,adapt_span_params).to(device)"
   ]
  },
  {
   "cell_type": "code",
   "execution_count": 117,
   "metadata": {},
   "outputs": [
    {
     "data": {
      "text/plain": [
       "ModuleList(\n",
       "  (0): BertLayer(\n",
       "    (attention): BertSelfattLayer(\n",
       "      (self): BertAttention(\n",
       "        (query): Linear(in_features=768, out_features=768, bias=True)\n",
       "        (key): Linear(in_features=768, out_features=768, bias=True)\n",
       "        (value): Linear(in_features=768, out_features=768, bias=True)\n",
       "        (dropout): Dropout(p=0.1, inplace=False)\n",
       "        (adaptive_span): AdaptiveSpan(\n",
       "          (_mask): AdaptiveMask()\n",
       "        )\n",
       "      )\n",
       "      (output): BertAttOutput(\n",
       "        (dense): Linear(in_features=768, out_features=768, bias=True)\n",
       "        (LayerNorm): LayerNorm((768,), eps=1e-12, elementwise_affine=True)\n",
       "        (dropout): Dropout(p=0.1, inplace=False)\n",
       "      )\n",
       "    )\n",
       "    (intermediate): BertIntermediate(\n",
       "      (dense): Linear(in_features=768, out_features=3072, bias=True)\n",
       "      (intermediate_act_fn): GeLU()\n",
       "    )\n",
       "    (output): BertOutput(\n",
       "      (dense): Linear(in_features=3072, out_features=768, bias=True)\n",
       "      (LayerNorm): LayerNorm((768,), eps=1e-12, elementwise_affine=True)\n",
       "      (dropout): Dropout(p=0.1, inplace=False)\n",
       "    )\n",
       "  )\n",
       "  (1): BertLayer(\n",
       "    (attention): BertSelfattLayer(\n",
       "      (self): BertAttention(\n",
       "        (query): Linear(in_features=768, out_features=768, bias=True)\n",
       "        (key): Linear(in_features=768, out_features=768, bias=True)\n",
       "        (value): Linear(in_features=768, out_features=768, bias=True)\n",
       "        (dropout): Dropout(p=0.1, inplace=False)\n",
       "        (adaptive_span): AdaptiveSpan(\n",
       "          (_mask): AdaptiveMask()\n",
       "        )\n",
       "      )\n",
       "      (output): BertAttOutput(\n",
       "        (dense): Linear(in_features=768, out_features=768, bias=True)\n",
       "        (LayerNorm): LayerNorm((768,), eps=1e-12, elementwise_affine=True)\n",
       "        (dropout): Dropout(p=0.1, inplace=False)\n",
       "      )\n",
       "    )\n",
       "    (intermediate): BertIntermediate(\n",
       "      (dense): Linear(in_features=768, out_features=3072, bias=True)\n",
       "      (intermediate_act_fn): GeLU()\n",
       "    )\n",
       "    (output): BertOutput(\n",
       "      (dense): Linear(in_features=3072, out_features=768, bias=True)\n",
       "      (LayerNorm): LayerNorm((768,), eps=1e-12, elementwise_affine=True)\n",
       "      (dropout): Dropout(p=0.1, inplace=False)\n",
       "    )\n",
       "  )\n",
       "  (2): BertLayer(\n",
       "    (attention): BertSelfattLayer(\n",
       "      (self): BertAttention(\n",
       "        (query): Linear(in_features=768, out_features=768, bias=True)\n",
       "        (key): Linear(in_features=768, out_features=768, bias=True)\n",
       "        (value): Linear(in_features=768, out_features=768, bias=True)\n",
       "        (dropout): Dropout(p=0.1, inplace=False)\n",
       "        (adaptive_span): AdaptiveSpan(\n",
       "          (_mask): AdaptiveMask()\n",
       "        )\n",
       "      )\n",
       "      (output): BertAttOutput(\n",
       "        (dense): Linear(in_features=768, out_features=768, bias=True)\n",
       "        (LayerNorm): LayerNorm((768,), eps=1e-12, elementwise_affine=True)\n",
       "        (dropout): Dropout(p=0.1, inplace=False)\n",
       "      )\n",
       "    )\n",
       "    (intermediate): BertIntermediate(\n",
       "      (dense): Linear(in_features=768, out_features=3072, bias=True)\n",
       "      (intermediate_act_fn): GeLU()\n",
       "    )\n",
       "    (output): BertOutput(\n",
       "      (dense): Linear(in_features=3072, out_features=768, bias=True)\n",
       "      (LayerNorm): LayerNorm((768,), eps=1e-12, elementwise_affine=True)\n",
       "      (dropout): Dropout(p=0.1, inplace=False)\n",
       "    )\n",
       "  )\n",
       "  (3): BertLayer(\n",
       "    (attention): BertSelfattLayer(\n",
       "      (self): BertAttention(\n",
       "        (query): Linear(in_features=768, out_features=768, bias=True)\n",
       "        (key): Linear(in_features=768, out_features=768, bias=True)\n",
       "        (value): Linear(in_features=768, out_features=768, bias=True)\n",
       "        (dropout): Dropout(p=0.1, inplace=False)\n",
       "        (adaptive_span): AdaptiveSpan(\n",
       "          (_mask): AdaptiveMask()\n",
       "        )\n",
       "      )\n",
       "      (output): BertAttOutput(\n",
       "        (dense): Linear(in_features=768, out_features=768, bias=True)\n",
       "        (LayerNorm): LayerNorm((768,), eps=1e-12, elementwise_affine=True)\n",
       "        (dropout): Dropout(p=0.1, inplace=False)\n",
       "      )\n",
       "    )\n",
       "    (intermediate): BertIntermediate(\n",
       "      (dense): Linear(in_features=768, out_features=3072, bias=True)\n",
       "      (intermediate_act_fn): GeLU()\n",
       "    )\n",
       "    (output): BertOutput(\n",
       "      (dense): Linear(in_features=3072, out_features=768, bias=True)\n",
       "      (LayerNorm): LayerNorm((768,), eps=1e-12, elementwise_affine=True)\n",
       "      (dropout): Dropout(p=0.1, inplace=False)\n",
       "    )\n",
       "  )\n",
       "  (4): BertLayer(\n",
       "    (attention): BertSelfattLayer(\n",
       "      (self): BertAttention(\n",
       "        (query): Linear(in_features=768, out_features=768, bias=True)\n",
       "        (key): Linear(in_features=768, out_features=768, bias=True)\n",
       "        (value): Linear(in_features=768, out_features=768, bias=True)\n",
       "        (dropout): Dropout(p=0.1, inplace=False)\n",
       "        (adaptive_span): AdaptiveSpan(\n",
       "          (_mask): AdaptiveMask()\n",
       "        )\n",
       "      )\n",
       "      (output): BertAttOutput(\n",
       "        (dense): Linear(in_features=768, out_features=768, bias=True)\n",
       "        (LayerNorm): LayerNorm((768,), eps=1e-12, elementwise_affine=True)\n",
       "        (dropout): Dropout(p=0.1, inplace=False)\n",
       "      )\n",
       "    )\n",
       "    (intermediate): BertIntermediate(\n",
       "      (dense): Linear(in_features=768, out_features=3072, bias=True)\n",
       "      (intermediate_act_fn): GeLU()\n",
       "    )\n",
       "    (output): BertOutput(\n",
       "      (dense): Linear(in_features=3072, out_features=768, bias=True)\n",
       "      (LayerNorm): LayerNorm((768,), eps=1e-12, elementwise_affine=True)\n",
       "      (dropout): Dropout(p=0.1, inplace=False)\n",
       "    )\n",
       "  )\n",
       "  (5): BertLayer(\n",
       "    (attention): BertSelfattLayer(\n",
       "      (self): BertAttention(\n",
       "        (query): Linear(in_features=768, out_features=768, bias=True)\n",
       "        (key): Linear(in_features=768, out_features=768, bias=True)\n",
       "        (value): Linear(in_features=768, out_features=768, bias=True)\n",
       "        (dropout): Dropout(p=0.1, inplace=False)\n",
       "        (adaptive_span): AdaptiveSpan(\n",
       "          (_mask): AdaptiveMask()\n",
       "        )\n",
       "      )\n",
       "      (output): BertAttOutput(\n",
       "        (dense): Linear(in_features=768, out_features=768, bias=True)\n",
       "        (LayerNorm): LayerNorm((768,), eps=1e-12, elementwise_affine=True)\n",
       "        (dropout): Dropout(p=0.1, inplace=False)\n",
       "      )\n",
       "    )\n",
       "    (intermediate): BertIntermediate(\n",
       "      (dense): Linear(in_features=768, out_features=3072, bias=True)\n",
       "      (intermediate_act_fn): GeLU()\n",
       "    )\n",
       "    (output): BertOutput(\n",
       "      (dense): Linear(in_features=3072, out_features=768, bias=True)\n",
       "      (LayerNorm): LayerNorm((768,), eps=1e-12, elementwise_affine=True)\n",
       "      (dropout): Dropout(p=0.1, inplace=False)\n",
       "    )\n",
       "  )\n",
       "  (6): BertLayer(\n",
       "    (attention): BertSelfattLayer(\n",
       "      (self): BertAttention(\n",
       "        (query): Linear(in_features=768, out_features=768, bias=True)\n",
       "        (key): Linear(in_features=768, out_features=768, bias=True)\n",
       "        (value): Linear(in_features=768, out_features=768, bias=True)\n",
       "        (dropout): Dropout(p=0.1, inplace=False)\n",
       "        (adaptive_span): AdaptiveSpan(\n",
       "          (_mask): AdaptiveMask()\n",
       "        )\n",
       "      )\n",
       "      (output): BertAttOutput(\n",
       "        (dense): Linear(in_features=768, out_features=768, bias=True)\n",
       "        (LayerNorm): LayerNorm((768,), eps=1e-12, elementwise_affine=True)\n",
       "        (dropout): Dropout(p=0.1, inplace=False)\n",
       "      )\n",
       "    )\n",
       "    (intermediate): BertIntermediate(\n",
       "      (dense): Linear(in_features=768, out_features=3072, bias=True)\n",
       "      (intermediate_act_fn): GeLU()\n",
       "    )\n",
       "    (output): BertOutput(\n",
       "      (dense): Linear(in_features=3072, out_features=768, bias=True)\n",
       "      (LayerNorm): LayerNorm((768,), eps=1e-12, elementwise_affine=True)\n",
       "      (dropout): Dropout(p=0.1, inplace=False)\n",
       "    )\n",
       "  )\n",
       "  (7): BertLayer(\n",
       "    (attention): BertSelfattLayer(\n",
       "      (self): BertAttention(\n",
       "        (query): Linear(in_features=768, out_features=768, bias=True)\n",
       "        (key): Linear(in_features=768, out_features=768, bias=True)\n",
       "        (value): Linear(in_features=768, out_features=768, bias=True)\n",
       "        (dropout): Dropout(p=0.1, inplace=False)\n",
       "        (adaptive_span): AdaptiveSpan(\n",
       "          (_mask): AdaptiveMask()\n",
       "        )\n",
       "      )\n",
       "      (output): BertAttOutput(\n",
       "        (dense): Linear(in_features=768, out_features=768, bias=True)\n",
       "        (LayerNorm): LayerNorm((768,), eps=1e-12, elementwise_affine=True)\n",
       "        (dropout): Dropout(p=0.1, inplace=False)\n",
       "      )\n",
       "    )\n",
       "    (intermediate): BertIntermediate(\n",
       "      (dense): Linear(in_features=768, out_features=3072, bias=True)\n",
       "      (intermediate_act_fn): GeLU()\n",
       "    )\n",
       "    (output): BertOutput(\n",
       "      (dense): Linear(in_features=3072, out_features=768, bias=True)\n",
       "      (LayerNorm): LayerNorm((768,), eps=1e-12, elementwise_affine=True)\n",
       "      (dropout): Dropout(p=0.1, inplace=False)\n",
       "    )\n",
       "  )\n",
       "  (8): BertLayer(\n",
       "    (attention): BertSelfattLayer(\n",
       "      (self): BertAttention(\n",
       "        (query): Linear(in_features=768, out_features=768, bias=True)\n",
       "        (key): Linear(in_features=768, out_features=768, bias=True)\n",
       "        (value): Linear(in_features=768, out_features=768, bias=True)\n",
       "        (dropout): Dropout(p=0.1, inplace=False)\n",
       "        (adaptive_span): AdaptiveSpan(\n",
       "          (_mask): AdaptiveMask()\n",
       "        )\n",
       "      )\n",
       "      (output): BertAttOutput(\n",
       "        (dense): Linear(in_features=768, out_features=768, bias=True)\n",
       "        (LayerNorm): LayerNorm((768,), eps=1e-12, elementwise_affine=True)\n",
       "        (dropout): Dropout(p=0.1, inplace=False)\n",
       "      )\n",
       "    )\n",
       "    (intermediate): BertIntermediate(\n",
       "      (dense): Linear(in_features=768, out_features=3072, bias=True)\n",
       "      (intermediate_act_fn): GeLU()\n",
       "    )\n",
       "    (output): BertOutput(\n",
       "      (dense): Linear(in_features=3072, out_features=768, bias=True)\n",
       "      (LayerNorm): LayerNorm((768,), eps=1e-12, elementwise_affine=True)\n",
       "      (dropout): Dropout(p=0.1, inplace=False)\n",
       "    )\n",
       "  )\n",
       ")"
      ]
     },
     "execution_count": 117,
     "metadata": {},
     "output_type": "execute_result"
    }
   ],
   "source": [
    "model.lxrt_encoder.model.bert.encoder.layer"
   ]
  },
  {
   "cell_type": "code",
   "execution_count": 122,
   "metadata": {},
   "outputs": [
    {
     "name": "stdout",
     "output_type": "stream",
     "text": [
      "tensor(0., grad_fn=<AddBackward0>)\n"
     ]
    }
   ],
   "source": [
    "l=0\n",
    "for i in model.lxrt_encoder.model.bert.encoder.layer:\n",
    "    l += i.attention.self.adaptive_span.get_loss()\n",
    "print(l)"
   ]
  },
  {
   "cell_type": "code",
   "execution_count": null,
   "metadata": {},
   "outputs": [],
   "source": [
    "feat = torch.rand(128,36,2048)\n",
    "pos = torch.rand(128,36,4)\n",
    "\n",
    "sent=['Are there any people in this photo?',\n",
    " 'How many Almira in this bathroom?',\n",
    " \"Does this animal resemble man's best friend?\",\n",
    " 'What sport is being played?',\n",
    " 'Is the sink gray?',\n",
    " 'Why type of flowers are in the vase?',\n",
    " 'Are they playing at a park?',\n",
    " 'What is the man doing?',\n",
    " 'Of what material is the shower curtain?',\n",
    " \"What company's name is seen?\",\n",
    " 'Where are they all going?',\n",
    " 'Is it a hot day?',\n",
    " 'In what type of establishment is this picture most likely taken?',\n",
    " 'Do these foods appear healthy?',\n",
    " 'How many lamps are there?',\n",
    " 'How many sets of giraffes have their necks crossed?',\n",
    " 'How many legs are there?',\n",
    " 'What is this type of bike?',\n",
    " 'What are they wearing on their heads?',\n",
    " 'How many glass objects are on the windowsill?',\n",
    " 'What is the person holding in their hand?',\n",
    " 'What is the biggest thing on the road?',\n",
    " 'What color is the animal in the sink?',\n",
    " 'Is he wet mostly from water or mostly from alcohol?',\n",
    " 'Is the cat sad?',\n",
    " \"Do the man's cap and shorts match?\",\n",
    " 'Is she wearing a skirt or shorts?',\n",
    " 'Does everyone have a shirt on?',\n",
    " 'Have these sheep been sheared?',\n",
    " 'Are here buildings?',\n",
    " 'Is this a dairy farm?',\n",
    " 'What are the people on the scene wearing?',\n",
    " 'What does the sign say at the bottom?',\n",
    " 'Is this a collage?',\n",
    " 'Where is the baby standing?',\n",
    " 'What time is it?',\n",
    " 'Who does the sandwich belong to?',\n",
    " 'Is this picture from a zoo?',\n",
    " 'What number is on the clock?',\n",
    " 'Do the power lines go through the Magnolia tree?',\n",
    " 'How many stickers on the computer?',\n",
    " 'Is the cat overweight?',\n",
    " 'What kind of bread is shown?',\n",
    " 'Is he going into the ocean?',\n",
    " 'Are the computers on?',\n",
    " 'What brand is the board?',\n",
    " 'How many kites are in the air?',\n",
    " 'What are the cows walking on?',\n",
    " 'What is the man standing on?',\n",
    " 'Is this a tall animal?',\n",
    " 'How many people are cutting this cake?',\n",
    " \"What colors are on this man's shirt?\",\n",
    " 'Which man is speaking?',\n",
    " 'How many people are on the beach?',\n",
    " 'What color is the elephant in the right hand picture?',\n",
    " 'Would you expect to find this animal at the beach?',\n",
    " 'What is flying in the sky?',\n",
    " 'Does near the door need painted?',\n",
    " 'How many stitch lines are on the inseam of these jeans?',\n",
    " 'What color is this fruit?',\n",
    " 'How many slices of pizza are there?',\n",
    " \"What color is the woman's jacket?\",\n",
    " 'Can you see people in the picture?',\n",
    " 'How many phones are shown?',\n",
    " 'What was the name of the company?',\n",
    " 'What country is this?',\n",
    " 'Is the graffiti considered artwork?',\n",
    " 'What is the man on the right doing?',\n",
    " 'What color is the court?',\n",
    " 'Does this guys headband match his shirt?',\n",
    " 'Is he in the air?',\n",
    " 'Is this type of bird currently endangered?',\n",
    " 'Has the woman fallen?',\n",
    " 'What color is the nearest streamer?',\n",
    " 'What date was the photo taken?',\n",
    " 'Are there any vegetables on the plate with the sandwich?',\n",
    " 'What kind of paper is on the floor?',\n",
    " \"What country's flag can be seen in the background?\",\n",
    " 'How many dogs are looking in front of them?',\n",
    " 'What type of room is this?',\n",
    " 'Is this a fun sport?',\n",
    " 'Does the fire hydrant need to be painted?',\n",
    " 'How many electronic devices are in the photo?',\n",
    " 'What is advertised on the back of the truck?',\n",
    " 'What geographical features are located in the background of the picture?',\n",
    " 'Which animal is more appropriate for a child?',\n",
    " 'Is the light on in the refrigerator?',\n",
    " 'What are group does this female belong in?',\n",
    " 'What is the man doing?',\n",
    " 'How old is the person receiving this?',\n",
    " 'Is the man wearing a hat?',\n",
    " 'What is in the reflection?',\n",
    " 'How many animals are there?',\n",
    " 'What herb is sprinkled on the pizza slice?',\n",
    " 'How many people are pictured?',\n",
    " 'Does the horse do this because it wants to?',\n",
    " \"What is the letter above the people's head?\",\n",
    " 'Is there a car in the background?',\n",
    " 'What does the white street sign say?',\n",
    " 'What holiday are they celebrating?',\n",
    " 'What is on top of table in the vase?',\n",
    " 'What is the color of the side mirror?',\n",
    " 'What is the color of the elephant?',\n",
    " 'Who many donuts have they eaten?',\n",
    " 'Is everybody in this picture a girl?',\n",
    " 'Is the cup half full?',\n",
    " 'What type of wall is in the background?',\n",
    " 'Which horse is the youngest?',\n",
    " 'How many pepperonis are on this pizza?',\n",
    " 'Is the kite multi colored?',\n",
    " 'Are they celebrating?',\n",
    " 'What time is this?',\n",
    " \"What's in the bag?\",\n",
    " \"Is there a face painting on the person's finger in the picture?\",\n",
    " 'How many zebras in the photo?',\n",
    " 'What is she eating?',\n",
    " 'What can you see out the window?',\n",
    " 'Is the person very old?',\n",
    " 'What is emitting light?',\n",
    " 'Are the numbers on the clock Roman numerals??',\n",
    " 'How many people are in the picture?',\n",
    " 'Is this child feeding the elephant?',\n",
    " 'How many people are standing?',\n",
    " 'What is colorful on the ramp?',\n",
    " 'What is on the plate?',\n",
    " 'When was the picture taken?',\n",
    " 'Is the keyboard wireless?',\n",
    " 'Is the woman smiling?']"
   ]
  },
  {
   "cell_type": "code",
   "execution_count": 301,
   "metadata": {},
   "outputs": [],
   "source": [
    "load_lxmert_qa_path = '/home/u37216/project/lxmert/snap/pretrained/model'\n",
    "from pretrain.qa_answer_table import AnswerTable, load_lxmert_qa"
   ]
  },
  {
   "cell_type": "code",
   "execution_count": null,
   "metadata": {},
   "outputs": [],
   "source": []
  }
 ],
 "metadata": {
  "kernelspec": {
   "display_name": "Python 3",
   "language": "python",
   "name": "python3"
  },
  "language_info": {
   "codemirror_mode": {
    "name": "ipython",
    "version": 3
   },
   "file_extension": ".py",
   "mimetype": "text/x-python",
   "name": "python",
   "nbconvert_exporter": "python",
   "pygments_lexer": "ipython3",
   "version": "3.7.4"
  }
 },
 "nbformat": 4,
 "nbformat_minor": 2
}
