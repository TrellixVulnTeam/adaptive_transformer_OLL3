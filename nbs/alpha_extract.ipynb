{
 "cells": [
  {
   "cell_type": "code",
   "execution_count": 1,
   "metadata": {},
   "outputs": [
    {
     "ename": "ImportError",
     "evalue": "numpy.core.multiarray failed to import",
     "output_type": "error",
     "traceback": [
      "\u001b[0;31m---------------------------------------------------------------------------\u001b[0m",
      "\u001b[0;31mImportError\u001b[0m                               Traceback (most recent call last)",
      "\u001b[0;32m<ipython-input-1-29d8e91446c6>\u001b[0m in \u001b[0;36m<module>\u001b[0;34m()\u001b[0m\n\u001b[0;32m----> 1\u001b[0;31m \u001b[0;32mimport\u001b[0m \u001b[0mtorch\u001b[0m\u001b[0;34m\u001b[0m\u001b[0m\n\u001b[0m\u001b[1;32m      2\u001b[0m \u001b[0;32mfrom\u001b[0m \u001b[0mpathlib\u001b[0m \u001b[0;32mimport\u001b[0m \u001b[0mPath\u001b[0m\u001b[0;34m\u001b[0m\u001b[0m\n\u001b[1;32m      3\u001b[0m \u001b[0mhome\u001b[0m \u001b[0;34m=\u001b[0m \u001b[0mstr\u001b[0m\u001b[0;34m(\u001b[0m\u001b[0mPath\u001b[0m\u001b[0;34m.\u001b[0m\u001b[0mhome\u001b[0m\u001b[0;34m(\u001b[0m\u001b[0;34m)\u001b[0m\u001b[0;34m)\u001b[0m\u001b[0;34m\u001b[0m\u001b[0m\n",
      "\u001b[0;32m~/.local/lib/python3.6/site-packages/torch/__init__.py\u001b[0m in \u001b[0;36m<module>\u001b[0;34m()\u001b[0m\n\u001b[1;32m     79\u001b[0m \u001b[0;32mdel\u001b[0m \u001b[0m_dl_flags\u001b[0m\u001b[0;34m\u001b[0m\u001b[0m\n\u001b[1;32m     80\u001b[0m \u001b[0;34m\u001b[0m\u001b[0m\n\u001b[0;32m---> 81\u001b[0;31m \u001b[0;32mfrom\u001b[0m \u001b[0mtorch\u001b[0m\u001b[0;34m.\u001b[0m\u001b[0m_C\u001b[0m \u001b[0;32mimport\u001b[0m \u001b[0;34m*\u001b[0m\u001b[0;34m\u001b[0m\u001b[0m\n\u001b[0m\u001b[1;32m     82\u001b[0m \u001b[0;34m\u001b[0m\u001b[0m\n\u001b[1;32m     83\u001b[0m __all__ += [name for name in dir(_C)\n",
      "\u001b[0;31mImportError\u001b[0m: numpy.core.multiarray failed to import"
     ]
    }
   ],
   "source": [
    "import torch\n",
    "from pathlib import Path\n",
    "home = str(Path.home())"
   ]
  },
  {
   "cell_type": "code",
   "execution_count": null,
   "metadata": {},
   "outputs": [],
   "source": [
    "k0 = torch.load(home+'/snap/sparse_4.pth', map_location=torch.device('cpu'))"
   ]
  },
  {
   "cell_type": "code",
   "execution_count": 3,
   "metadata": {},
   "outputs": [],
   "source": [
    "alpha_dict_main = {}"
   ]
  },
  {
   "cell_type": "code",
   "execution_count": 4,
   "metadata": {},
   "outputs": [],
   "source": [
    "alpha_dict_4 = {}\n",
    "for i in range(9):\n",
    "    alpha_dict_4['Lang_'+str(i)] = k0['lxrt_encoder.model.bert.encoder.layer.'+str(i)+'.attention.self.entmax_alpha.alpha_chooser']\n",
    "for i in range(5):\n",
    "    alpha_dict_4['cross_'+str(i)] = k0['lxrt_encoder.model.bert.encoder.x_layers.'+str(i)+'.visual_attention.att.entmax_alpha.alpha_chooser']\n",
    "for i in range(5):\n",
    "    alpha_dict_4['cross_lang_'+str(i)] = k0['lxrt_encoder.model.bert.encoder.x_layers.'+str(i)+'.lang_self_att.self.entmax_alpha.alpha_chooser']\n",
    "for i in range(5):\n",
    "    alpha_dict_4['cross_vision_'+str(i)] = k0['lxrt_encoder.model.bert.encoder.x_layers.'+str(i)+'.visn_self_att.self.entmax_alpha.alpha_chooser']\n",
    "for i in range(5):\n",
    "    alpha_dict_4['vision_'+str(i)] = k0['lxrt_encoder.model.bert.encoder.r_layers.'+str(i)+'.attention.self.entmax_alpha.alpha_chooser']    \n",
    "alpha_dict_main['sparse_4']= alpha_dict_4"
   ]
  },
  {
   "cell_type": "code",
   "execution_count": 5,
   "metadata": {},
   "outputs": [],
   "source": [
    "k1 = torch.load('sparse_5.pth', map_location=torch.device('cpu'))"
   ]
  },
  {
   "cell_type": "code",
   "execution_count": 6,
   "metadata": {},
   "outputs": [],
   "source": [
    "alpha_dict_5 = {}\n",
    "for i in range(9):\n",
    "    alpha_dict_5['Lang_'+str(i)] = k1['lxrt_encoder.model.bert.encoder.layer.'+str(i)+'.attention.self.entmax_alpha.alpha_chooser']\n",
    "for i in range(5):\n",
    "    alpha_dict_5['cross_'+str(i)] = k1['lxrt_encoder.model.bert.encoder.x_layers.'+str(i)+'.visual_attention.att.entmax_alpha.alpha_chooser']\n",
    "for i in range(5):\n",
    "    alpha_dict_5['cross_lang_'+str(i)] = k1['lxrt_encoder.model.bert.encoder.x_layers.'+str(i)+'.lang_self_att.self.entmax_alpha.alpha_chooser']\n",
    "for i in range(5):\n",
    "    alpha_dict_5['cross_vision_'+str(i)] = k1['lxrt_encoder.model.bert.encoder.x_layers.'+str(i)+'.visn_self_att.self.entmax_alpha.alpha_chooser']\n",
    "for i in range(5):\n",
    "    alpha_dict_5['vision_'+str(i)] = k1['lxrt_encoder.model.bert.encoder.r_layers.'+str(i)+'.attention.self.entmax_alpha.alpha_chooser']   \n",
    "alpha_dict_main['sparse_5']= alpha_dict_5"
   ]
  },
  {
   "cell_type": "code",
   "execution_count": 7,
   "metadata": {},
   "outputs": [],
   "source": [
    "k2 = torch.load('sparse_6.pth', map_location=torch.device('cpu'))"
   ]
  },
  {
   "cell_type": "code",
   "execution_count": 8,
   "metadata": {},
   "outputs": [],
   "source": [
    "alpha_dict_6 = {}\n",
    "for i in range(9):\n",
    "    alpha_dict_6['Lang_'+str(i)] = k2['lxrt_encoder.model.bert.encoder.layer.'+str(i)+'.attention.self.entmax_alpha.alpha_chooser']\n",
    "for i in range(5):\n",
    "    alpha_dict_6['cross_'+str(i)] = k2['lxrt_encoder.model.bert.encoder.x_layers.'+str(i)+'.visual_attention.att.entmax_alpha.alpha_chooser']\n",
    "for i in range(5):\n",
    "    alpha_dict_6['cross_lang_'+str(i)] = k2['lxrt_encoder.model.bert.encoder.x_layers.'+str(i)+'.lang_self_att.self.entmax_alpha.alpha_chooser']\n",
    "for i in range(5):\n",
    "    alpha_dict_6['cross_vision_'+str(i)] = k2['lxrt_encoder.model.bert.encoder.x_layers.'+str(i)+'.visn_self_att.self.entmax_alpha.alpha_chooser']\n",
    "for i in range(5):\n",
    "    alpha_dict_6['vision_'+str(i)] = k2['lxrt_encoder.model.bert.encoder.r_layers.'+str(i)+'.attention.self.entmax_alpha.alpha_chooser']    \n",
    "alpha_dict_main['sparse_6']= alpha_dict_6"
   ]
  },
  {
   "cell_type": "code",
   "execution_count": 9,
   "metadata": {},
   "outputs": [],
   "source": [
    "k3 = torch.load('sparse_7.pth', map_location=torch.device('cpu'))"
   ]
  },
  {
   "cell_type": "code",
   "execution_count": 10,
   "metadata": {},
   "outputs": [],
   "source": [
    "alpha_dict_7 = {}\n",
    "for i in range(9):\n",
    "    alpha_dict_7['Lang_'+str(i)] = k3['lxrt_encoder.model.bert.encoder.layer.'+str(i)+'.attention.self.entmax_alpha.alpha_chooser']\n",
    "for i in range(5):\n",
    "    alpha_dict_7['cross_'+str(i)] = k3['lxrt_encoder.model.bert.encoder.x_layers.'+str(i)+'.visual_attention.att.entmax_alpha.alpha_chooser']\n",
    "for i in range(5):\n",
    "    alpha_dict_7['cross_lang_'+str(i)] = k3['lxrt_encoder.model.bert.encoder.x_layers.'+str(i)+'.lang_self_att.self.entmax_alpha.alpha_chooser']\n",
    "for i in range(5):\n",
    "    alpha_dict_7['cross_vision_'+str(i)] = k3['lxrt_encoder.model.bert.encoder.x_layers.'+str(i)+'.visn_self_att.self.entmax_alpha.alpha_chooser']\n",
    "for i in range(5):\n",
    "    alpha_dict_7['vision_'+str(i)] = k3['lxrt_encoder.model.bert.encoder.r_layers.'+str(i)+'.attention.self.entmax_alpha.alpha_chooser']  \n",
    "alpha_dict_main['sparse_7'] = alpha_dict_7"
   ]
  },
  {
   "cell_type": "code",
   "execution_count": 12,
   "metadata": {},
   "outputs": [],
   "source": [
    "torch.save(alpha_dict_main, home+'/snap/alpha_val_main.pth')"
   ]
  },
  {
   "cell_type": "code",
   "execution_count": null,
   "metadata": {},
   "outputs": [],
   "source": []
  }
 ],
 "metadata": {
  "kernelspec": {
   "display_name": "Python 3",
   "language": "python",
   "name": "python3"
  }
 },
 "nbformat": 4,
 "nbformat_minor": 2
}
